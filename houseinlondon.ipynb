{
 "cells": [
  {
   "cell_type": "markdown",
   "id": "e6846ca8",
   "metadata": {},
   "source": [
    "# Prepare Data"
   ]
  },
  {
   "cell_type": "markdown",
   "id": "a836b3d8",
   "metadata": {},
   "source": [
    "### Import"
   ]
  },
  {
   "cell_type": "code",
   "execution_count": 1,
   "id": "ada5aa04",
   "metadata": {},
   "outputs": [],
   "source": [
    "#from glob import glob\n",
    "\n",
    "#Handling data\n",
    "import pandas as pd \n",
    "\n",
    "#Vizualization\n",
    "import matplotlib.pyplot as plt\n",
    "%matplotlib inline\n",
    "import plotly.express as px\n",
    "import seaborn as sns\n",
    "\n",
    "#Handle categorical features\n",
    "from categorical_tiers import categorize_exterior1st, categorize_exterior2nd, categorize_neighborhood\n",
    "\n",
    "#Interactive vizualization\n",
    "from ipywidgets import Dropdown, FloatSlider, IntSlider, interact\n",
    "\n",
    "#Encoding\n",
    "from category_encoders import OneHotEncoder\n",
    "\n",
    "#Model\n",
    "from sklearn.impute import SimpleImputer\n",
    "from sklearn.linear_model import LinearRegression, Ridge\n",
    "from sklearn.metrics import mean_absolute_error\n",
    "from sklearn.pipeline import make_pipeline\n",
    "from sklearn.utils.validation import check_is_fitted\n"
   ]
  },
  {
   "cell_type": "code",
   "execution_count": 2,
   "id": "48792589",
   "metadata": {},
   "outputs": [],
   "source": [
    "#Create a wrangle function\n",
    "def wrangle(filepath):\n",
    "\n",
    "    #Func to drop columns with more than 100 missing data\n",
    "    def drop_sparse_columns(df, threshold = 100):\n",
    "        cols_to_drop = df.columns[df.isnull().sum()>threshold]\n",
    "        df.drop(columns=cols_to_drop, inplace=True)\n",
    "        return df\n",
    "    \n",
    "    #Read the data into a DataFrame\n",
    "    df = pd.read_csv(filepath)\n",
    "\n",
    "    #Drop columns with more than 100 missing data\n",
    "    df = drop_sparse_columns(df,threshold=100)\n",
    "\n",
    "    # Fill numeric columns where missing means 0\n",
    "    df['MasVnrArea'] = df['MasVnrArea'].fillna(0)\n",
    "    df['GarageYrBlt'] = df['GarageYrBlt'].fillna(0)\n",
    "\n",
    "    # Fill basement categorical columns with 'None'\n",
    "    bsmt_cols = ['BsmtQual', 'BsmtCond', 'BsmtExposure', 'BsmtFinType1', 'BsmtFinType2']\n",
    "    for col in bsmt_cols:\n",
    "        df[col] = df[col].fillna('None')\n",
    "\n",
    "    # Fill garage categorical columns with 'None'\n",
    "    garage_cols = ['GarageType', 'GarageFinish', 'GarageQual', 'GarageCond']\n",
    "    for col in garage_cols:\n",
    "        df[col] = df[col].fillna('None')\n",
    "\n",
    "    # Fill Electrical with mode\n",
    "    df['Electrical'] = df['Electrical'].fillna(df['Electrical'].mode()[0])\n",
    "\n",
    "    #Features Engineering\n",
    "    df[\"TotalBath\"] = df[\"FullBath\"] + 0.5 * df[\"HalfBath\"] + df[\"BsmtFullBath\"]+ 0.5 * df[\"BsmtHalfBath\"]\n",
    "    df[\"TotalPorchSF\"] = df[\"OpenPorchSF\"] + df[\"EnclosedPorch\"] + df[\"3SsnPorch\"] + df[\"ScreenPorch\"]\n",
    "    df[\"AgeOfHouse\"] = df[\"YrSold\"]- df[\"YearBuilt\"]\n",
    "    df[\"YearsSinceRemod\"] = df[\"YrSold\"] - df[\"YearRemodAdd\"]\n",
    "    df['GarageAge'] = df['YrSold'] - df['GarageYrBlt']\n",
    "    df.loc[df['GarageYrBlt'] == 0, 'GarageAge'] = 0\n",
    "    df['TotalHouseSF'] = df['GrLivArea'] + df['TotalBsmtSF']\n",
    "\n",
    "    #other features\n",
    "    df['OverallGrade'] = df['OverallQual'] * df['OverallCond']\n",
    "    df['TotalSF'] = df['1stFlrSF'] + df['2ndFlrSF'] + df['LowQualFinSF']\n",
    "    \n",
    "\n",
    "\n",
    "\n",
    "\n",
    "    #Columns to drop\n",
    "    cols_to_drop = [\n",
    "        'FullBath', 'HalfBath', 'BsmtFullBath', 'BsmtHalfBath',\n",
    "        'OpenPorchSF', 'EnclosedPorch', '3SsnPorch', 'ScreenPorch',\n",
    "        'YearBuilt', 'YearRemodAdd', 'GarageYrBlt',\n",
    "        'GrLivArea', 'TotalBsmtSF', 'BedroomAbvGr', 'KitchenAbvGr', 'FullBath','HalfBath',\n",
    "        'OverallQual', 'OverallCond', 'BsmtFinSF1','BsmtUnfSF','BsmtFinSF2', '1stFlrSF', '2ndFlrSF',\n",
    "        'LowQualFinSF', 'GarageCars'\n",
    "    ]\n",
    "    df.drop(columns=[col for col in cols_to_drop if col in df.columns], inplace=True)\n",
    "\n",
    "    #Reset index\n",
    "    df.set_index(\"Id\", inplace=True)\n",
    "\n",
    "    #Remove outliers by '\"surface_area_covered\"'\n",
    "    low,high=df[\"LotArea\"].quantile([0.1,0.9])\n",
    "    mask_area=df[\"LotArea\"].between(low,high)\n",
    "    df=df[mask_area]\n",
    "\n",
    "    #Cardinality\n",
    "    df['Neighborhood_Tier'] = df['Neighborhood'].apply(categorize_neighborhood)\n",
    "    df['Exterior1st_Tier'] = df['Exterior1st'].apply(categorize_exterior1st)\n",
    "    df['Exterior2nd_Tier'] = df['Exterior2nd'].apply(categorize_exterior2nd)\n",
    "\n",
    "    #Drop high cardinal features\n",
    "    df.drop(columns=[\"Neighborhood\", \"Exterior1st\", \"Exterior2nd\"], inplace= True)\n",
    "    #Return the DataFrame\n",
    "    return df"
   ]
  },
  {
   "cell_type": "code",
   "execution_count": 3,
   "id": "8869d6c3",
   "metadata": {},
   "outputs": [
    {
     "name": "stdout",
     "output_type": "stream",
     "text": [
      "(1172, 57)\n",
      "<class 'pandas.core.frame.DataFrame'>\n",
      "Index: 1172 entries, 1 to 1460\n",
      "Data columns (total 57 columns):\n",
      " #   Column             Non-Null Count  Dtype  \n",
      "---  ------             --------------  -----  \n",
      " 0   MSSubClass         1172 non-null   int64  \n",
      " 1   MSZoning           1172 non-null   object \n",
      " 2   LotArea            1172 non-null   int64  \n",
      " 3   Street             1172 non-null   object \n",
      " 4   LotShape           1172 non-null   object \n",
      " 5   LandContour        1172 non-null   object \n",
      " 6   Utilities          1172 non-null   object \n",
      " 7   LotConfig          1172 non-null   object \n",
      " 8   LandSlope          1172 non-null   object \n",
      " 9   Condition1         1172 non-null   object \n",
      " 10  Condition2         1172 non-null   object \n",
      " 11  BldgType           1172 non-null   object \n",
      " 12  HouseStyle         1172 non-null   object \n",
      " 13  RoofStyle          1172 non-null   object \n",
      " 14  RoofMatl           1172 non-null   object \n",
      " 15  MasVnrArea         1172 non-null   float64\n",
      " 16  ExterQual          1172 non-null   object \n",
      " 17  ExterCond          1172 non-null   object \n",
      " 18  Foundation         1172 non-null   object \n",
      " 19  BsmtQual           1172 non-null   object \n",
      " 20  BsmtCond           1172 non-null   object \n",
      " 21  BsmtExposure       1172 non-null   object \n",
      " 22  BsmtFinType1       1172 non-null   object \n",
      " 23  BsmtFinType2       1172 non-null   object \n",
      " 24  Heating            1172 non-null   object \n",
      " 25  HeatingQC          1172 non-null   object \n",
      " 26  CentralAir         1172 non-null   object \n",
      " 27  Electrical         1172 non-null   object \n",
      " 28  KitchenQual        1172 non-null   object \n",
      " 29  TotRmsAbvGrd       1172 non-null   int64  \n",
      " 30  Functional         1172 non-null   object \n",
      " 31  Fireplaces         1172 non-null   int64  \n",
      " 32  GarageType         1172 non-null   object \n",
      " 33  GarageFinish       1172 non-null   object \n",
      " 34  GarageArea         1172 non-null   int64  \n",
      " 35  GarageQual         1172 non-null   object \n",
      " 36  GarageCond         1172 non-null   object \n",
      " 37  PavedDrive         1172 non-null   object \n",
      " 38  WoodDeckSF         1172 non-null   int64  \n",
      " 39  PoolArea           1172 non-null   int64  \n",
      " 40  MiscVal            1172 non-null   int64  \n",
      " 41  MoSold             1172 non-null   int64  \n",
      " 42  YrSold             1172 non-null   int64  \n",
      " 43  SaleType           1172 non-null   object \n",
      " 44  SaleCondition      1172 non-null   object \n",
      " 45  SalePrice          1172 non-null   int64  \n",
      " 46  TotalBath          1172 non-null   float64\n",
      " 47  TotalPorchSF       1172 non-null   int64  \n",
      " 48  AgeOfHouse         1172 non-null   int64  \n",
      " 49  YearsSinceRemod    1172 non-null   int64  \n",
      " 50  GarageAge          1172 non-null   float64\n",
      " 51  TotalHouseSF       1172 non-null   int64  \n",
      " 52  OverallGrade       1172 non-null   int64  \n",
      " 53  TotalSF            1172 non-null   int64  \n",
      " 54  Neighborhood_Tier  1172 non-null   object \n",
      " 55  Exterior1st_Tier   1172 non-null   object \n",
      " 56  Exterior2nd_Tier   1172 non-null   object \n",
      "dtypes: float64(3), int64(17), object(37)\n",
      "memory usage: 531.1+ KB\n"
     ]
    },
    {
     "data": {
      "text/html": [
       "<div>\n",
       "<style scoped>\n",
       "    .dataframe tbody tr th:only-of-type {\n",
       "        vertical-align: middle;\n",
       "    }\n",
       "\n",
       "    .dataframe tbody tr th {\n",
       "        vertical-align: top;\n",
       "    }\n",
       "\n",
       "    .dataframe thead th {\n",
       "        text-align: right;\n",
       "    }\n",
       "</style>\n",
       "<table border=\"1\" class=\"dataframe\">\n",
       "  <thead>\n",
       "    <tr style=\"text-align: right;\">\n",
       "      <th></th>\n",
       "      <th>MSSubClass</th>\n",
       "      <th>MSZoning</th>\n",
       "      <th>LotArea</th>\n",
       "      <th>Street</th>\n",
       "      <th>LotShape</th>\n",
       "      <th>LandContour</th>\n",
       "      <th>Utilities</th>\n",
       "      <th>LotConfig</th>\n",
       "      <th>LandSlope</th>\n",
       "      <th>Condition1</th>\n",
       "      <th>...</th>\n",
       "      <th>TotalPorchSF</th>\n",
       "      <th>AgeOfHouse</th>\n",
       "      <th>YearsSinceRemod</th>\n",
       "      <th>GarageAge</th>\n",
       "      <th>TotalHouseSF</th>\n",
       "      <th>OverallGrade</th>\n",
       "      <th>TotalSF</th>\n",
       "      <th>Neighborhood_Tier</th>\n",
       "      <th>Exterior1st_Tier</th>\n",
       "      <th>Exterior2nd_Tier</th>\n",
       "    </tr>\n",
       "    <tr>\n",
       "      <th>Id</th>\n",
       "      <th></th>\n",
       "      <th></th>\n",
       "      <th></th>\n",
       "      <th></th>\n",
       "      <th></th>\n",
       "      <th></th>\n",
       "      <th></th>\n",
       "      <th></th>\n",
       "      <th></th>\n",
       "      <th></th>\n",
       "      <th></th>\n",
       "      <th></th>\n",
       "      <th></th>\n",
       "      <th></th>\n",
       "      <th></th>\n",
       "      <th></th>\n",
       "      <th></th>\n",
       "      <th></th>\n",
       "      <th></th>\n",
       "      <th></th>\n",
       "      <th></th>\n",
       "    </tr>\n",
       "  </thead>\n",
       "  <tbody>\n",
       "    <tr>\n",
       "      <th>1</th>\n",
       "      <td>60</td>\n",
       "      <td>RL</td>\n",
       "      <td>8450</td>\n",
       "      <td>Pave</td>\n",
       "      <td>Reg</td>\n",
       "      <td>Lvl</td>\n",
       "      <td>AllPub</td>\n",
       "      <td>Inside</td>\n",
       "      <td>Gtl</td>\n",
       "      <td>Norm</td>\n",
       "      <td>...</td>\n",
       "      <td>61</td>\n",
       "      <td>5</td>\n",
       "      <td>5</td>\n",
       "      <td>5.0</td>\n",
       "      <td>2566</td>\n",
       "      <td>35</td>\n",
       "      <td>1710</td>\n",
       "      <td>High</td>\n",
       "      <td>Premium</td>\n",
       "      <td>Premium</td>\n",
       "    </tr>\n",
       "    <tr>\n",
       "      <th>2</th>\n",
       "      <td>20</td>\n",
       "      <td>RL</td>\n",
       "      <td>9600</td>\n",
       "      <td>Pave</td>\n",
       "      <td>Reg</td>\n",
       "      <td>Lvl</td>\n",
       "      <td>AllPub</td>\n",
       "      <td>FR2</td>\n",
       "      <td>Gtl</td>\n",
       "      <td>Feedr</td>\n",
       "      <td>...</td>\n",
       "      <td>0</td>\n",
       "      <td>31</td>\n",
       "      <td>31</td>\n",
       "      <td>31.0</td>\n",
       "      <td>2524</td>\n",
       "      <td>48</td>\n",
       "      <td>1262</td>\n",
       "      <td>High</td>\n",
       "      <td>Mid</td>\n",
       "      <td>Mid</td>\n",
       "    </tr>\n",
       "    <tr>\n",
       "      <th>3</th>\n",
       "      <td>60</td>\n",
       "      <td>RL</td>\n",
       "      <td>11250</td>\n",
       "      <td>Pave</td>\n",
       "      <td>IR1</td>\n",
       "      <td>Lvl</td>\n",
       "      <td>AllPub</td>\n",
       "      <td>Inside</td>\n",
       "      <td>Gtl</td>\n",
       "      <td>Norm</td>\n",
       "      <td>...</td>\n",
       "      <td>42</td>\n",
       "      <td>7</td>\n",
       "      <td>6</td>\n",
       "      <td>7.0</td>\n",
       "      <td>2706</td>\n",
       "      <td>35</td>\n",
       "      <td>1786</td>\n",
       "      <td>High</td>\n",
       "      <td>Premium</td>\n",
       "      <td>Premium</td>\n",
       "    </tr>\n",
       "    <tr>\n",
       "      <th>4</th>\n",
       "      <td>70</td>\n",
       "      <td>RL</td>\n",
       "      <td>9550</td>\n",
       "      <td>Pave</td>\n",
       "      <td>IR1</td>\n",
       "      <td>Lvl</td>\n",
       "      <td>AllPub</td>\n",
       "      <td>Corner</td>\n",
       "      <td>Gtl</td>\n",
       "      <td>Norm</td>\n",
       "      <td>...</td>\n",
       "      <td>307</td>\n",
       "      <td>91</td>\n",
       "      <td>36</td>\n",
       "      <td>8.0</td>\n",
       "      <td>2473</td>\n",
       "      <td>35</td>\n",
       "      <td>1717</td>\n",
       "      <td>High</td>\n",
       "      <td>Mid</td>\n",
       "      <td>High</td>\n",
       "    </tr>\n",
       "    <tr>\n",
       "      <th>5</th>\n",
       "      <td>60</td>\n",
       "      <td>RL</td>\n",
       "      <td>14260</td>\n",
       "      <td>Pave</td>\n",
       "      <td>IR1</td>\n",
       "      <td>Lvl</td>\n",
       "      <td>AllPub</td>\n",
       "      <td>FR2</td>\n",
       "      <td>Gtl</td>\n",
       "      <td>Norm</td>\n",
       "      <td>...</td>\n",
       "      <td>84</td>\n",
       "      <td>8</td>\n",
       "      <td>8</td>\n",
       "      <td>8.0</td>\n",
       "      <td>3343</td>\n",
       "      <td>40</td>\n",
       "      <td>2198</td>\n",
       "      <td>Premium</td>\n",
       "      <td>Premium</td>\n",
       "      <td>Premium</td>\n",
       "    </tr>\n",
       "  </tbody>\n",
       "</table>\n",
       "<p>5 rows × 57 columns</p>\n",
       "</div>"
      ],
      "text/plain": [
       "    MSSubClass MSZoning  LotArea Street LotShape LandContour Utilities  \\\n",
       "Id                                                                       \n",
       "1           60       RL     8450   Pave      Reg         Lvl    AllPub   \n",
       "2           20       RL     9600   Pave      Reg         Lvl    AllPub   \n",
       "3           60       RL    11250   Pave      IR1         Lvl    AllPub   \n",
       "4           70       RL     9550   Pave      IR1         Lvl    AllPub   \n",
       "5           60       RL    14260   Pave      IR1         Lvl    AllPub   \n",
       "\n",
       "   LotConfig LandSlope Condition1  ... TotalPorchSF AgeOfHouse  \\\n",
       "Id                                 ...                           \n",
       "1     Inside       Gtl       Norm  ...           61          5   \n",
       "2        FR2       Gtl      Feedr  ...            0         31   \n",
       "3     Inside       Gtl       Norm  ...           42          7   \n",
       "4     Corner       Gtl       Norm  ...          307         91   \n",
       "5        FR2       Gtl       Norm  ...           84          8   \n",
       "\n",
       "   YearsSinceRemod GarageAge TotalHouseSF  OverallGrade TotalSF  \\\n",
       "Id                                                                \n",
       "1                5       5.0         2566            35    1710   \n",
       "2               31      31.0         2524            48    1262   \n",
       "3                6       7.0         2706            35    1786   \n",
       "4               36       8.0         2473            35    1717   \n",
       "5                8       8.0         3343            40    2198   \n",
       "\n",
       "   Neighborhood_Tier Exterior1st_Tier Exterior2nd_Tier  \n",
       "Id                                                      \n",
       "1               High          Premium          Premium  \n",
       "2               High              Mid              Mid  \n",
       "3               High          Premium          Premium  \n",
       "4               High              Mid             High  \n",
       "5            Premium          Premium          Premium  \n",
       "\n",
       "[5 rows x 57 columns]"
      ]
     },
     "execution_count": 3,
     "metadata": {},
     "output_type": "execute_result"
    }
   ],
   "source": [
    "#Read data\n",
    "df = wrangle(\"train.csv\")\n",
    "\n",
    "#Display the shape of the data\n",
    "print(df.shape)\n",
    "\n",
    "#Display info\n",
    "df.info()\n",
    "\n",
    "#Display the head of the data\n",
    "df.head()"
   ]
  },
  {
   "cell_type": "code",
   "execution_count": 4,
   "id": "735ecd5d",
   "metadata": {},
   "outputs": [
    {
     "data": {
      "text/plain": [
       "array(['SBrkr', 'FuseF', 'FuseA', 'FuseP', 'Mix'], dtype=object)"
      ]
     },
     "execution_count": 4,
     "metadata": {},
     "output_type": "execute_result"
    }
   ],
   "source": [
    "df['Electrical'].unique()\n"
   ]
  },
  {
   "cell_type": "markdown",
   "id": "464a92c3",
   "metadata": {},
   "source": [
    "### Explore"
   ]
  },
  {
   "cell_type": "code",
   "execution_count": 5,
   "id": "657c18ca",
   "metadata": {},
   "outputs": [
    {
     "data": {
      "text/plain": [
       "count      1172.000000\n",
       "mean     176632.412969\n",
       "std       71935.262488\n",
       "min       34900.000000\n",
       "25%      128987.500000\n",
       "50%      159500.000000\n",
       "75%      208350.000000\n",
       "max      611657.000000\n",
       "Name: SalePrice, dtype: float64"
      ]
     },
     "execution_count": 5,
     "metadata": {},
     "output_type": "execute_result"
    }
   ],
   "source": [
    "df[\"SalePrice\"].describe()"
   ]
  },
  {
   "cell_type": "code",
   "execution_count": 6,
   "id": "f12b800f",
   "metadata": {},
   "outputs": [
    {
     "data": {
      "image/png": "[encoded data removed]",
      "text/plain": [
       "<Figure size 640x480 with 1 Axes>"
      ]
     },
     "metadata": {},
     "output_type": "display_data"
    }
   ],
   "source": [
    "plt.hist(df[\"SalePrice\"])\n",
    "plt.xlabel(\"Sale Price\")\n",
    "plt.title(\"Distribution of House Prices\");"
   ]
  },
  {
   "cell_type": "code",
   "execution_count": 7,
   "id": "d5fb40d8",
   "metadata": {},
   "outputs": [
    {
     "data": {
      "application/vnd.plotly.v1+json": {
       "config": {
        "plotlyServerURL": "https://plot.ly"
       },
       "data": [
        {
         "alignmentgroup": "True",
         "hovertemplate": "LotArea=%{x}<extra></extra>",
         "legendgroup": "",
         "marker": {
          "color": "#636efa"
         },
         "name": "",
         "notched": false,
         "offsetgroup": "",
         "orientation": "h",
         "showlegend": false,
         "type": "box",
         "x": {
          "bdata": "AiGAJfIrTiW0NyM3ZCeOKOgX/BzAK5QuqDKcKagq6BfpKycqfzWIHYc3GR0OJjYgljcgHNYstBg0IWAhKSs4KZEcajRrKlQh8h6YF9Ih3CPwIwkf6h0WMlgrPh4tNmAYGCHeG78nfS1yNSAcEDMgHCoZPCifJHclqSlTNa8dnSfYJ54WGyG7IRoqyCjIMt4nvCJSIYcuFiGGHyAcNCEwNCAceSQlJhgoqSqBKWgkayn2I2oboihOHp8kMCpwFzQh5y01JUYe7SZbHGAtWCFYMA0hrBf4JNQefBqmHQ0jeDfAL9wcxRpfKKAocyg+K2ojBCl9LUghXyiMI+gXISVMHWAYdChDNrw0TCyAJSAc4y4IMXAreDWWL3wVGBV6J9QpQik0IEYwuhTVJ4AwRzEtJ1I1SCGkHWQjoiwOHdsmqihqG0opMB05IwwcyCSQFXclYiGNJ1gbSy5pNc0wHDg6IOQVtCjAIQA1lCobJwIhsiYeI4Qf0ywEKaA03iZJITgimimrHkUi7ST+LiUiKCOIEwoqsCKgKLYjLiw1LOYUriCGJNAgIiJXIm4ikzCeMXQlFyF8FXAUOi/HK9Ag9BrtHugp9C2AJXogYBzsIxUnFywgHMcTjCVMHzomvR9bJhoiNxaRLIAlAR+ONecctC2wNog1SCaSKKI08B42MFowBR5AH3gegCVzHs0yKCOsJiM3Qy+MKLwWCyyIE14qUC1wLgIZgCnwH58pBiBSI003ryNBN3AwbzfQIGAhkSIjGeQxjB6XFHwjSCHQIPErICQSG+sudB24I4UcwikcJb4jeB5mJrkfBxyKKQggJCeOIocrgiy7H4gTIBwdJCgj2iAgHKYkujDVILEvkyAWHZYnYyUgHKYdByO9Hz8i2Cc6L3woByfwKEo3MCpjJQAj3CvDIqQe4B8CIZQb8CMoIwAykSFqGsEs0hVXKqspcBdCMEwvYBguIn8mziuYIXAXNBZXJCgjUSSAJewTZxtEHyAcWSDULu4ghCkIJaQsSySkGrAu0hQgIUUzfTWNKSUXRi5OHoAlMSjTLzAqEiX7HpgWxx6UMaAjeB5vHUsm0iOsHVIlth6AJYAliBqMI+MjYim8L9Ao4Cc7JaYqMCrULogTCy5MHfQziiPYJwsYIByIE2AjWBvcIr8xIS2fLPgqnCcNNiEiTBwrIJ8kcBeKK0kigSnsGCArTSwaJ1M2IjTKGr4ruycnMHgbLTOkHGcz7yYEKSAhlBgBLnYvoDFBLrw06BezLBsoJCKMI4AgpjTIGTYfJiy4Mq8qKCM5JwMyIDWwMHgeiC8HHyormyhtLtIgYCK1Hjscri3ULzggMCqYG6AoECc2MIAlVi08IygjfC4iJEMbkCroF3AXSSKFMYobJDYpKuMjIikgHNQoFB69H3wjLiJQKMUoFycgHNEmYDD4NBwnuiu9H183UC25IeUZ8ivwI4AlPiNELtkmTB/wK8YT3yfxE5kfmR0YFegX8zVwFxQZAiH7N4AlljDOHdAg4BVgGDoj+hsIIpEmzTScJzAqECcuKcAmoxm4H+wf5jMwG5Ic0yxgGA0VdiWMLBAnEiMwKmAh3ygwKmEkgCVwGgIhVjITFQMjWyK0LWEp1SBgIkYeFCQAKPoeESpgLeEvjCP/GsAh1iRNJbUo3DCMI1QcrSKLHqYnkjfKKyY00CAiKcMe8RuNI5wYPiYwKp4ncBetL0UswCbGI1Aq0CAFIP0dzjQgHP4xByBDNigj8i8WJlg0pB+cJwgiFiY4IGkvoSzRM3Ai4xg6HHAXajCsJtAr8hdRIXwuTCUUJ8MegCWkHzUl9y17L8goPCNAH3kxZSSAJdgbPy/xGtoqvR+gKBUr2h1pLcgl+x7AIS4ioCk6G9ImyBkuIrwicC9YFigjgiIGLlgbcBu+NaQlPBjuG/8TySCAL4AfsCveIOQzahuQGz0iaht3MlEbrBwIIsMeHRjAJr007Cy1Ii0xUC1GJOgXfhgoI0UzFSsOIUki/SdMHwAo3y6sJj4uzjLdIowjli0nIcEWYyfLJTgiYDEzIh8eJzh0IuMftjaQJCAceB4gHEMruCTgG/wcAiEnHMMvky40LP0ngCXeHCUXjigwKtQedy2WLAwX6iRwIlovqy/yK40ngCq+FK8nDi+9H+wkICaOIqgwoynFLTomahreJxgVtS7sLMEgey9WL3AXYSZgKSAckC3QIGsuthYgKnAb7hzfJBQeVCQwJRQlqhu9H6EY7CxiMhgkRTOqIwUVPy6AJXA1HSRcKyEjpyscJXIhZyxhLIwbLCwLLCA1cBf4KrA2nR4gJoAlqCe0LaEdDh9sIUUzMCpHIiArTB0tImAi5zJtI04pYCHQIA4k7BZlJOIacBdoLtAgHiZYG84i4C91KH8fYixAH/AovBvbIhgVNS9GHiQmATaIHUcgZCfeIr0kpSPCKBQuIBx8HtgprCZkJkUiJBiAJcYYWyYbIrYcQCjtJigjlC9gGMAr4C5EFigjWCAjNwIXhDUQKoYkiROcLqAjFCJkMkUl6yhkKqA1mCagI7YpJxsBHo8goivTFTAqCiZ3Ka0w5yJMHYAllCRdH+Y2kiKMI+MriSSgKHAXFiacJ8QiryNTHsYn0itmL3wkBijdJ7Yb4iLAIWAYeB46IAApuCnyKKgiQSLmHjAeciaAL00hTDNpMBAzTSPeH3kmgSlDNqssOi+9HygwgCUgHJgrgiYTG2AY3zdzJRYmgCXyK8s0iCeeMxQ3UCzEI9Y0+CzyFFEsiDIBJUwdUCZxH2AiuCSmJXAXPiYgFjkrIDfIGZwn7B/QIPwhTB0KKkwdiCfwIXUzKxuIH+Au8RtuImQl/h9DK/In5yfQIOMZyifSFAInyBnIKHwjECccKq0iIByyJR4kijRYJWYgfzWfJIYdXytwF4IUey0fJHAXTCjQJwUl+TByJuEwMyFMHdsjiykYFYAlFiaILIEp7yqUGPYqByYUIH0yIBxkIzwVSCFwF4wj8CKeHjAqeTHoFyAcGxhwF/ccahqqKP0gTCI8HoQwgCUgHPIq/TJMLPQjtC0fJeEpwCqyKiAcAjEwKhUo0CAoI5ww7xxALQYt+yqWIjQh0CAQJ/ctKCMuJEwd7R53M1Ij9SXRJg==",
          "dtype": "i2"
         },
         "x0": " ",
         "xaxis": "x",
         "y0": " ",
         "yaxis": "y"
        }
       ],
       "layout": {
        "boxmode": "group",
        "height": 600,
        "legend": {
         "tracegroupgap": 0
        },
        "template": {
         "data": {
          "bar": [
           {
            "error_x": {
             "color": "#2a3f5f"
            },
            "error_y": {
             "color": "#2a3f5f"
            },
            "marker": {
             "line": {
              "color": "#E5ECF6",
              "width": 0.5
             },
             "pattern": {
              "fillmode": "overlay",
              "size": 10,
              "solidity": 0.2
             }
            },
            "type": "bar"
           }
          ],
          "barpolar": [
           {
            "marker": {
             "line": {
              "color": "#E5ECF6",
              "width": 0.5
             },
             "pattern": {
              "fillmode": "overlay",
              "size": 10,
              "solidity": 0.2
             }
            },
            "type": "barpolar"
           }
          ],
          "carpet": [
           {
            "aaxis": {
             "endlinecolor": "#2a3f5f",
             "gridcolor": "white",
             "linecolor": "white",
             "minorgridcolor": "white",
             "startlinecolor": "#2a3f5f"
            },
            "baxis": {
             "endlinecolor": "#2a3f5f",
             "gridcolor": "white",
             "linecolor": "white",
             "minorgridcolor": "white",
             "startlinecolor": "#2a3f5f"
            },
            "type": "carpet"
           }
          ],
          "choropleth": [
           {
            "colorbar": {
             "outlinewidth": 0,
             "ticks": ""
            },
            "type": "choropleth"
           }
          ],
          "contour": [
           {
            "colorbar": {
             "outlinewidth": 0,
             "ticks": ""
            },
            "colorscale": [
             [
              0,
              "#0d0887"
             ],
             [
              0.1111111111111111,
              "#46039f"
             ],
             [
              0.2222222222222222,
              "#7201a8"
             ],
             [
              0.3333333333333333,
              "#9c179e"
             ],
             [
              0.4444444444444444,
              "#bd3786"
             ],
             [
              0.5555555555555556,
              "#d8576b"
             ],
             [
              0.6666666666666666,
              "#ed7953"
             ],
             [
              0.7777777777777778,
              "#fb9f3a"
             ],
             [
              0.8888888888888888,
              "#fdca26"
             ],
             [
              1,
              "#f0f921"
             ]
            ],
            "type": "contour"
           }
          ],
          "contourcarpet": [
           {
            "colorbar": {
             "outlinewidth": 0,
             "ticks": ""
            },
            "type": "contourcarpet"
           }
          ],
          "heatmap": [
           {
            "colorbar": {
             "outlinewidth": 0,
             "ticks": ""
            },
            "colorscale": [
             [
              0,
              "#0d0887"
             ],
             [
              0.1111111111111111,
              "#46039f"
             ],
             [
              0.2222222222222222,
              "#7201a8"
             ],
             [
              0.3333333333333333,
              "#9c179e"
             ],
             [
              0.4444444444444444,
              "#bd3786"
             ],
             [
              0.5555555555555556,
              "#d8576b"
             ],
             [
              0.6666666666666666,
              "#ed7953"
             ],
             [
              0.7777777777777778,
              "#fb9f3a"
             ],
             [
              0.8888888888888888,
              "#fdca26"
             ],
             [
              1,
              "#f0f921"
             ]
            ],
            "type": "heatmap"
           }
          ],
          "histogram": [
           {
            "marker": {
             "pattern": {
              "fillmode": "overlay",
              "size": 10,
              "solidity": 0.2
             }
            },
            "type": "histogram"
           }
          ],
          "histogram2d": [
           {
            "colorbar": {
             "outlinewidth": 0,
             "ticks": ""
            },
            "colorscale": [
             [
              0,
              "#0d0887"
             ],
             [
              0.1111111111111111,
              "#46039f"
             ],
             [
              0.2222222222222222,
              "#7201a8"
             ],
             [
              0.3333333333333333,
              "#9c179e"
             ],
             [
              0.4444444444444444,
              "#bd3786"
             ],
             [
              0.5555555555555556,
              "#d8576b"
             ],
             [
              0.6666666666666666,
              "#ed7953"
             ],
             [
              0.7777777777777778,
              "#fb9f3a"
             ],
             [
              0.8888888888888888,
              "#fdca26"
             ],
             [
              1,
              "#f0f921"
             ]
            ],
            "type": "histogram2d"
           }
          ],
          "histogram2dcontour": [
           {
            "colorbar": {
             "outlinewidth": 0,
             "ticks": ""
            },
            "colorscale": [
             [
              0,
              "#0d0887"
             ],
             [
              0.1111111111111111,
              "#46039f"
             ],
             [
              0.2222222222222222,
              "#7201a8"
             ],
             [
              0.3333333333333333,
              "#9c179e"
             ],
             [
              0.4444444444444444,
              "#bd3786"
             ],
             [
              0.5555555555555556,
              "#d8576b"
             ],
             [
              0.6666666666666666,
              "#ed7953"
             ],
             [
              0.7777777777777778,
              "#fb9f3a"
             ],
             [
              0.8888888888888888,
              "#fdca26"
             ],
             [
              1,
              "#f0f921"
             ]
            ],
            "type": "histogram2dcontour"
           }
          ],
          "mesh3d": [
           {
            "colorbar": {
             "outlinewidth": 0,
             "ticks": ""
            },
            "type": "mesh3d"
           }
          ],
          "parcoords": [
           {
            "line": {
             "colorbar": {
              "outlinewidth": 0,
              "ticks": ""
             }
            },
            "type": "parcoords"
           }
          ],
          "pie": [
           {
            "automargin": true,
            "type": "pie"
           }
          ],
          "scatter": [
           {
            "fillpattern": {
             "fillmode": "overlay",
             "size": 10,
             "solidity": 0.2
            },
            "type": "scatter"
           }
          ],
          "scatter3d": [
           {
            "line": {
             "colorbar": {
              "outlinewidth": 0,
              "ticks": ""
             }
            },
            "marker": {
             "colorbar": {
              "outlinewidth": 0,
              "ticks": ""
             }
            },
            "type": "scatter3d"
           }
          ],
          "scattercarpet": [
           {
            "marker": {
             "colorbar": {
              "outlinewidth": 0,
              "ticks": ""
             }
            },
            "type": "scattercarpet"
           }
          ],
          "scattergeo": [
           {
            "marker": {
             "colorbar": {
              "outlinewidth": 0,
              "ticks": ""
             }
            },
            "type": "scattergeo"
           }
          ],
          "scattergl": [
           {
            "marker": {
             "colorbar": {
              "outlinewidth": 0,
              "ticks": ""
             }
            },
            "type": "scattergl"
           }
          ],
          "scattermap": [
           {
            "marker": {
             "colorbar": {
              "outlinewidth": 0,
              "ticks": ""
             }
            },
            "type": "scattermap"
           }
          ],
          "scattermapbox": [
           {
            "marker": {
             "colorbar": {
              "outlinewidth": 0,
              "ticks": ""
             }
            },
            "type": "scattermapbox"
           }
          ],
          "scatterpolar": [
           {
            "marker": {
             "colorbar": {
              "outlinewidth": 0,
              "ticks": ""
             }
            },
            "type": "scatterpolar"
           }
          ],
          "scatterpolargl": [
           {
            "marker": {
             "colorbar": {
              "outlinewidth": 0,
              "ticks": ""
             }
            },
            "type": "scatterpolargl"
           }
          ],
          "scatterternary": [
           {
            "marker": {
             "colorbar": {
              "outlinewidth": 0,
              "ticks": ""
             }
            },
            "type": "scatterternary"
           }
          ],
          "surface": [
           {
            "colorbar": {
             "outlinewidth": 0,
             "ticks": ""
            },
            "colorscale": [
             [
              0,
              "#0d0887"
             ],
             [
              0.1111111111111111,
              "#46039f"
             ],
             [
              0.2222222222222222,
              "#7201a8"
             ],
             [
              0.3333333333333333,
              "#9c179e"
             ],
             [
              0.4444444444444444,
              "#bd3786"
             ],
             [
              0.5555555555555556,
              "#d8576b"
             ],
             [
              0.6666666666666666,
              "#ed7953"
             ],
             [
              0.7777777777777778,
              "#fb9f3a"
             ],
             [
              0.8888888888888888,
              "#fdca26"
             ],
             [
              1,
              "#f0f921"
             ]
            ],
            "type": "surface"
           }
          ],
          "table": [
           {
            "cells": {
             "fill": {
              "color": "#EBF0F8"
             },
             "line": {
              "color": "white"
             }
            },
            "header": {
             "fill": {
              "color": "#C8D4E3"
             },
             "line": {
              "color": "white"
             }
            },
            "type": "table"
           }
          ]
         },
         "layout": {
          "annotationdefaults": {
           "arrowcolor": "#2a3f5f",
           "arrowhead": 0,
           "arrowwidth": 1
          },
          "autotypenumbers": "strict",
          "coloraxis": {
           "colorbar": {
            "outlinewidth": 0,
            "ticks": ""
           }
          },
          "colorscale": {
           "diverging": [
            [
             0,
             "#8e0152"
            ],
            [
             0.1,
             "#c51b7d"
            ],
            [
             0.2,
             "#de77ae"
            ],
            [
             0.3,
             "#f1b6da"
            ],
            [
             0.4,
             "#fde0ef"
            ],
            [
             0.5,
             "#f7f7f7"
            ],
            [
             0.6,
             "#e6f5d0"
            ],
            [
             0.7,
             "#b8e186"
            ],
            [
             0.8,
             "#7fbc41"
            ],
            [
             0.9,
             "#4d9221"
            ],
            [
             1,
             "#276419"
            ]
           ],
           "sequential": [
            [
             0,
             "#0d0887"
            ],
            [
             0.1111111111111111,
             "#46039f"
            ],
            [
             0.2222222222222222,
             "#7201a8"
            ],
            [
             0.3333333333333333,
             "#9c179e"
            ],
            [
             0.4444444444444444,
             "#bd3786"
            ],
            [
             0.5555555555555556,
             "#d8576b"
            ],
            [
             0.6666666666666666,
             "#ed7953"
            ],
            [
             0.7777777777777778,
             "#fb9f3a"
            ],
            [
             0.8888888888888888,
             "#fdca26"
            ],
            [
             1,
             "#f0f921"
            ]
           ],
           "sequentialminus": [
            [
             0,
             "#0d0887"
            ],
            [
             0.1111111111111111,
             "#46039f"
            ],
            [
             0.2222222222222222,
             "#7201a8"
            ],
            [
             0.3333333333333333,
             "#9c179e"
            ],
            [
             0.4444444444444444,
             "#bd3786"
            ],
            [
             0.5555555555555556,
             "#d8576b"
            ],
            [
             0.6666666666666666,
             "#ed7953"
            ],
            [
             0.7777777777777778,
             "#fb9f3a"
            ],
            [
             0.8888888888888888,
             "#fdca26"
            ],
            [
             1,
             "#f0f921"
            ]
           ]
          },
          "colorway": [
           "#636efa",
           "#EF553B",
           "#00cc96",
           "#ab63fa",
           "#FFA15A",
           "#19d3f3",
           "#FF6692",
           "#B6E880",
           "#FF97FF",
           "#FECB52"
          ],
          "font": {
           "color": "#2a3f5f"
          },
          "geo": {
           "bgcolor": "white",
           "lakecolor": "white",
           "landcolor": "#E5ECF6",
           "showlakes": true,
           "showland": true,
           "subunitcolor": "white"
          },
          "hoverlabel": {
           "align": "left"
          },
          "hovermode": "closest",
          "mapbox": {
           "style": "light"
          },
          "paper_bgcolor": "white",
          "plot_bgcolor": "#E5ECF6",
          "polar": {
           "angularaxis": {
            "gridcolor": "white",
            "linecolor": "white",
            "ticks": ""
           },
           "bgcolor": "#E5ECF6",
           "radialaxis": {
            "gridcolor": "white",
            "linecolor": "white",
            "ticks": ""
           }
          },
          "scene": {
           "xaxis": {
            "backgroundcolor": "#E5ECF6",
            "gridcolor": "white",
            "gridwidth": 2,
            "linecolor": "white",
            "showbackground": true,
            "ticks": "",
            "zerolinecolor": "white"
           },
           "yaxis": {
            "backgroundcolor": "#E5ECF6",
            "gridcolor": "white",
            "gridwidth": 2,
            "linecolor": "white",
            "showbackground": true,
            "ticks": "",
            "zerolinecolor": "white"
           },
           "zaxis": {
            "backgroundcolor": "#E5ECF6",
            "gridcolor": "white",
            "gridwidth": 2,
            "linecolor": "white",
            "showbackground": true,
            "ticks": "",
            "zerolinecolor": "white"
           }
          },
          "shapedefaults": {
           "line": {
            "color": "#2a3f5f"
           }
          },
          "ternary": {
           "aaxis": {
            "gridcolor": "white",
            "linecolor": "white",
            "ticks": ""
           },
           "baxis": {
            "gridcolor": "white",
            "linecolor": "white",
            "ticks": ""
           },
           "bgcolor": "#E5ECF6",
           "caxis": {
            "gridcolor": "white",
            "linecolor": "white",
            "ticks": ""
           }
          },
          "title": {
           "x": 0.05
          },
          "xaxis": {
           "automargin": true,
           "gridcolor": "white",
           "linecolor": "white",
           "ticks": "",
           "title": {
            "standoff": 15
           },
           "zerolinecolor": "white",
           "zerolinewidth": 2
          },
          "yaxis": {
           "automargin": true,
           "gridcolor": "white",
           "linecolor": "white",
           "ticks": "",
           "title": {
            "standoff": 15
           },
           "zerolinecolor": "white",
           "zerolinewidth": 2
          }
         }
        },
        "title": {
         "font": {
          "size": 30
         },
         "text": "Distribution of LotArea",
         "x": 0.5,
         "xanchor": "center"
        },
        "width": 1000,
        "xaxis": {
         "anchor": "y",
         "domain": [
          0,
          1
         ],
         "title": {
          "text": "LotArea"
         }
        },
        "yaxis": {
         "anchor": "x",
         "domain": [
          0,
          1
         ]
        }
       }
      }
     },
     "metadata": {},
     "output_type": "display_data"
    }
   ],
   "source": [
    "fig = px.box(\n",
    "    df,\n",
    "    x=\"LotArea\",\n",
    "    title= \"Distribution of LotArea\",\n",
    "    width= 1000,\n",
    "    height= 600\n",
    ")\n",
    "fig.update_layout(\n",
    "    title={\n",
    "        \"text\":\"Distribution of LotArea\",\n",
    "        \"x\":0.5,\n",
    "        \"xanchor\":\"center\",\n",
    "        \"font\":{\"size\":30}\n",
    "    }\n",
    "\n",
    ")\n",
    "fig.show()"
   ]
  },
  {
   "cell_type": "code",
   "execution_count": 8,
   "id": "96fb7a1c",
   "metadata": {},
   "outputs": [
    {
     "data": {
      "text/plain": [
       "count     1172.000000\n",
       "mean      9547.709898\n",
       "std       2158.671490\n",
       "min       5000.000000\n",
       "25%       8024.750000\n",
       "50%       9468.500000\n",
       "75%      11053.750000\n",
       "max      14375.000000\n",
       "Name: LotArea, dtype: float64"
      ]
     },
     "execution_count": 8,
     "metadata": {},
     "output_type": "execute_result"
    }
   ],
   "source": [
    "df[\"LotArea\"].describe()"
   ]
  },
  {
   "cell_type": "code",
   "execution_count": 9,
   "id": "eeed04d7",
   "metadata": {},
   "outputs": [
    {
     "data": {
      "text/plain": [
       "MSZoning             5\n",
       "Street               2\n",
       "LotShape             4\n",
       "LandContour          4\n",
       "Utilities            2\n",
       "LotConfig            5\n",
       "LandSlope            3\n",
       "Condition1           9\n",
       "Condition2           6\n",
       "BldgType             5\n",
       "HouseStyle           8\n",
       "RoofStyle            5\n",
       "RoofMatl             5\n",
       "ExterQual            4\n",
       "ExterCond            5\n",
       "Foundation           6\n",
       "BsmtQual             5\n",
       "BsmtCond             5\n",
       "BsmtExposure         5\n",
       "BsmtFinType1         7\n",
       "BsmtFinType2         7\n",
       "Heating              6\n",
       "HeatingQC            5\n",
       "CentralAir           2\n",
       "Electrical           5\n",
       "KitchenQual          4\n",
       "Functional           6\n",
       "GarageType           7\n",
       "GarageFinish         4\n",
       "GarageQual           6\n",
       "GarageCond           6\n",
       "PavedDrive           3\n",
       "SaleType             9\n",
       "SaleCondition        6\n",
       "Neighborhood_Tier    4\n",
       "Exterior1st_Tier     4\n",
       "Exterior2nd_Tier     4\n",
       "dtype: int64"
      ]
     },
     "execution_count": 9,
     "metadata": {},
     "output_type": "execute_result"
    }
   ],
   "source": [
    "df.select_dtypes(\"object\").nunique()"
   ]
  },
  {
   "cell_type": "code",
   "execution_count": 10,
   "id": "638ddd8b",
   "metadata": {},
   "outputs": [
    {
     "data": {
      "text/plain": [
       "['AgeOfHouse',\n",
       " 'BldgType',\n",
       " 'BsmtCond',\n",
       " 'BsmtExposure',\n",
       " 'BsmtFinType1',\n",
       " 'BsmtFinType2',\n",
       " 'BsmtQual',\n",
       " 'CentralAir',\n",
       " 'Condition1',\n",
       " 'Condition2',\n",
       " 'Electrical',\n",
       " 'ExterCond',\n",
       " 'ExterQual',\n",
       " 'Exterior1st_Tier',\n",
       " 'Exterior2nd_Tier',\n",
       " 'Fireplaces',\n",
       " 'Foundation',\n",
       " 'Functional',\n",
       " 'GarageAge',\n",
       " 'GarageArea',\n",
       " 'GarageCond',\n",
       " 'GarageFinish',\n",
       " 'GarageQual',\n",
       " 'GarageType',\n",
       " 'Heating',\n",
       " 'HeatingQC',\n",
       " 'HouseStyle',\n",
       " 'KitchenQual',\n",
       " 'LandContour',\n",
       " 'LandSlope',\n",
       " 'LotArea',\n",
       " 'LotConfig',\n",
       " 'LotShape',\n",
       " 'MSSubClass',\n",
       " 'MSZoning',\n",
       " 'MasVnrArea',\n",
       " 'MiscVal',\n",
       " 'MoSold',\n",
       " 'Neighborhood_Tier',\n",
       " 'OverallGrade',\n",
       " 'PavedDrive',\n",
       " 'PoolArea',\n",
       " 'RoofMatl',\n",
       " 'RoofStyle',\n",
       " 'SaleCondition',\n",
       " 'SalePrice',\n",
       " 'SaleType',\n",
       " 'Street',\n",
       " 'TotRmsAbvGrd',\n",
       " 'TotalBath',\n",
       " 'TotalHouseSF',\n",
       " 'TotalPorchSF',\n",
       " 'TotalSF',\n",
       " 'Utilities',\n",
       " 'WoodDeckSF',\n",
       " 'YearsSinceRemod',\n",
       " 'YrSold']"
      ]
     },
     "execution_count": 10,
     "metadata": {},
     "output_type": "execute_result"
    }
   ],
   "source": [
    "sorted(df.columns)"
   ]
  },
  {
   "cell_type": "markdown",
   "id": "4516af7d",
   "metadata": {},
   "source": [
    "##### Check for multicolinearity"
   ]
  },
  {
   "cell_type": "code",
   "execution_count": 11,
   "id": "b3c21f5d",
   "metadata": {},
   "outputs": [
    {
     "data": {
      "text/html": [
       "<div>\n",
       "<style scoped>\n",
       "    .dataframe tbody tr th:only-of-type {\n",
       "        vertical-align: middle;\n",
       "    }\n",
       "\n",
       "    .dataframe tbody tr th {\n",
       "        vertical-align: top;\n",
       "    }\n",
       "\n",
       "    .dataframe thead th {\n",
       "        text-align: right;\n",
       "    }\n",
       "</style>\n",
       "<table border=\"1\" class=\"dataframe\">\n",
       "  <thead>\n",
       "    <tr style=\"text-align: right;\">\n",
       "      <th></th>\n",
       "      <th>MSSubClass</th>\n",
       "      <th>LotArea</th>\n",
       "      <th>MasVnrArea</th>\n",
       "      <th>TotRmsAbvGrd</th>\n",
       "      <th>Fireplaces</th>\n",
       "      <th>GarageArea</th>\n",
       "      <th>WoodDeckSF</th>\n",
       "      <th>PoolArea</th>\n",
       "      <th>MiscVal</th>\n",
       "      <th>MoSold</th>\n",
       "      <th>YrSold</th>\n",
       "      <th>TotalBath</th>\n",
       "      <th>TotalPorchSF</th>\n",
       "      <th>AgeOfHouse</th>\n",
       "      <th>YearsSinceRemod</th>\n",
       "      <th>GarageAge</th>\n",
       "      <th>TotalHouseSF</th>\n",
       "      <th>OverallGrade</th>\n",
       "      <th>TotalSF</th>\n",
       "    </tr>\n",
       "  </thead>\n",
       "  <tbody>\n",
       "    <tr>\n",
       "      <th>MSSubClass</th>\n",
       "      <td>1.000000</td>\n",
       "      <td>-0.098653</td>\n",
       "      <td>-0.008479</td>\n",
       "      <td>0.268739</td>\n",
       "      <td>0.054911</td>\n",
       "      <td>-0.065410</td>\n",
       "      <td>0.002023</td>\n",
       "      <td>-0.001426</td>\n",
       "      <td>-0.007517</td>\n",
       "      <td>0.026768</td>\n",
       "      <td>-0.012337</td>\n",
       "      <td>0.198652</td>\n",
       "      <td>0.057547</td>\n",
       "      <td>0.115302</td>\n",
       "      <td>0.012233</td>\n",
       "      <td>-0.017954</td>\n",
       "      <td>0.057786</td>\n",
       "      <td>0.061730</td>\n",
       "      <td>0.260022</td>\n",
       "    </tr>\n",
       "    <tr>\n",
       "      <th>LotArea</th>\n",
       "      <td>-0.098653</td>\n",
       "      <td>1.000000</td>\n",
       "      <td>0.282674</td>\n",
       "      <td>0.337323</td>\n",
       "      <td>0.274961</td>\n",
       "      <td>0.344511</td>\n",
       "      <td>0.188372</td>\n",
       "      <td>0.008989</td>\n",
       "      <td>0.037639</td>\n",
       "      <td>-0.025261</td>\n",
       "      <td>-0.009743</td>\n",
       "      <td>0.284156</td>\n",
       "      <td>0.071849</td>\n",
       "      <td>-0.261647</td>\n",
       "      <td>-0.183167</td>\n",
       "      <td>-0.132250</td>\n",
       "      <td>0.420043</td>\n",
       "      <td>0.174244</td>\n",
       "      <td>0.387681</td>\n",
       "    </tr>\n",
       "    <tr>\n",
       "      <th>MasVnrArea</th>\n",
       "      <td>-0.008479</td>\n",
       "      <td>0.282674</td>\n",
       "      <td>1.000000</td>\n",
       "      <td>0.314701</td>\n",
       "      <td>0.298512</td>\n",
       "      <td>0.389496</td>\n",
       "      <td>0.161799</td>\n",
       "      <td>-0.010717</td>\n",
       "      <td>-0.029063</td>\n",
       "      <td>0.024481</td>\n",
       "      <td>-0.000860</td>\n",
       "      <td>0.302903</td>\n",
       "      <td>0.058317</td>\n",
       "      <td>-0.316549</td>\n",
       "      <td>-0.167366</td>\n",
       "      <td>-0.203374</td>\n",
       "      <td>0.461908</td>\n",
       "      <td>0.228541</td>\n",
       "      <td>0.392074</td>\n",
       "    </tr>\n",
       "    <tr>\n",
       "      <th>TotRmsAbvGrd</th>\n",
       "      <td>0.268739</td>\n",
       "      <td>0.337323</td>\n",
       "      <td>0.314701</td>\n",
       "      <td>1.000000</td>\n",
       "      <td>0.303589</td>\n",
       "      <td>0.312483</td>\n",
       "      <td>0.148154</td>\n",
       "      <td>-0.028814</td>\n",
       "      <td>-0.031468</td>\n",
       "      <td>0.044457</td>\n",
       "      <td>-0.014025</td>\n",
       "      <td>0.464176</td>\n",
       "      <td>0.149487</td>\n",
       "      <td>-0.155198</td>\n",
       "      <td>-0.232479</td>\n",
       "      <td>-0.171421</td>\n",
       "      <td>0.668839</td>\n",
       "      <td>0.284768</td>\n",
       "      <td>0.832095</td>\n",
       "    </tr>\n",
       "    <tr>\n",
       "      <th>Fireplaces</th>\n",
       "      <td>0.054911</td>\n",
       "      <td>0.274961</td>\n",
       "      <td>0.298512</td>\n",
       "      <td>0.303589</td>\n",
       "      <td>1.000000</td>\n",
       "      <td>0.237854</td>\n",
       "      <td>0.187418</td>\n",
       "      <td>0.027930</td>\n",
       "      <td>-0.021076</td>\n",
       "      <td>0.046984</td>\n",
       "      <td>-0.007284</td>\n",
       "      <td>0.307168</td>\n",
       "      <td>0.163005</td>\n",
       "      <td>-0.186821</td>\n",
       "      <td>-0.118928</td>\n",
       "      <td>-0.024564</td>\n",
       "      <td>0.441065</td>\n",
       "      <td>0.298856</td>\n",
       "      <td>0.442845</td>\n",
       "    </tr>\n",
       "    <tr>\n",
       "      <th>GarageArea</th>\n",
       "      <td>-0.065410</td>\n",
       "      <td>0.344511</td>\n",
       "      <td>0.389496</td>\n",
       "      <td>0.312483</td>\n",
       "      <td>0.237854</td>\n",
       "      <td>1.000000</td>\n",
       "      <td>0.208984</td>\n",
       "      <td>-0.008532</td>\n",
       "      <td>-0.043796</td>\n",
       "      <td>0.031368</td>\n",
       "      <td>-0.011187</td>\n",
       "      <td>0.435360</td>\n",
       "      <td>0.077634</td>\n",
       "      <td>-0.526373</td>\n",
       "      <td>-0.405158</td>\n",
       "      <td>-0.353776</td>\n",
       "      <td>0.536209</td>\n",
       "      <td>0.332577</td>\n",
       "      <td>0.432621</td>\n",
       "    </tr>\n",
       "    <tr>\n",
       "      <th>WoodDeckSF</th>\n",
       "      <td>0.002023</td>\n",
       "      <td>0.188372</td>\n",
       "      <td>0.161799</td>\n",
       "      <td>0.148154</td>\n",
       "      <td>0.187418</td>\n",
       "      <td>0.208984</td>\n",
       "      <td>1.000000</td>\n",
       "      <td>0.050329</td>\n",
       "      <td>-0.025615</td>\n",
       "      <td>0.021794</td>\n",
       "      <td>0.053336</td>\n",
       "      <td>0.287308</td>\n",
       "      <td>-0.084487</td>\n",
       "      <td>-0.243235</td>\n",
       "      <td>-0.238543</td>\n",
       "      <td>-0.218171</td>\n",
       "      <td>0.273182</td>\n",
       "      <td>0.189764</td>\n",
       "      <td>0.230767</td>\n",
       "    </tr>\n",
       "    <tr>\n",
       "      <th>PoolArea</th>\n",
       "      <td>-0.001426</td>\n",
       "      <td>0.008989</td>\n",
       "      <td>-0.010717</td>\n",
       "      <td>-0.028814</td>\n",
       "      <td>0.027930</td>\n",
       "      <td>-0.008532</td>\n",
       "      <td>0.050329</td>\n",
       "      <td>1.000000</td>\n",
       "      <td>-0.003550</td>\n",
       "      <td>-0.038701</td>\n",
       "      <td>-0.028398</td>\n",
       "      <td>0.005468</td>\n",
       "      <td>-0.034709</td>\n",
       "      <td>-0.009191</td>\n",
       "      <td>-0.011192</td>\n",
       "      <td>0.004241</td>\n",
       "      <td>-0.014007</td>\n",
       "      <td>0.010781</td>\n",
       "      <td>-0.023587</td>\n",
       "    </tr>\n",
       "    <tr>\n",
       "      <th>MiscVal</th>\n",
       "      <td>-0.007517</td>\n",
       "      <td>0.037639</td>\n",
       "      <td>-0.029063</td>\n",
       "      <td>-0.031468</td>\n",
       "      <td>-0.021076</td>\n",
       "      <td>-0.043796</td>\n",
       "      <td>-0.025615</td>\n",
       "      <td>-0.003550</td>\n",
       "      <td>1.000000</td>\n",
       "      <td>-0.020081</td>\n",
       "      <td>0.014880</td>\n",
       "      <td>-0.052914</td>\n",
       "      <td>-0.007803</td>\n",
       "      <td>0.037876</td>\n",
       "      <td>0.003675</td>\n",
       "      <td>0.025302</td>\n",
       "      <td>-0.047570</td>\n",
       "      <td>0.051394</td>\n",
       "      <td>-0.041214</td>\n",
       "    </tr>\n",
       "    <tr>\n",
       "      <th>MoSold</th>\n",
       "      <td>0.026768</td>\n",
       "      <td>-0.025261</td>\n",
       "      <td>0.024481</td>\n",
       "      <td>0.044457</td>\n",
       "      <td>0.046984</td>\n",
       "      <td>0.031368</td>\n",
       "      <td>0.021794</td>\n",
       "      <td>-0.038701</td>\n",
       "      <td>-0.020081</td>\n",
       "      <td>1.000000</td>\n",
       "      <td>-0.165638</td>\n",
       "      <td>0.021922</td>\n",
       "      <td>0.037132</td>\n",
       "      <td>-0.041048</td>\n",
       "      <td>-0.041154</td>\n",
       "      <td>-0.029656</td>\n",
       "      <td>0.067196</td>\n",
       "      <td>0.035885</td>\n",
       "      <td>0.073813</td>\n",
       "    </tr>\n",
       "    <tr>\n",
       "      <th>YrSold</th>\n",
       "      <td>-0.012337</td>\n",
       "      <td>-0.009743</td>\n",
       "      <td>-0.000860</td>\n",
       "      <td>-0.014025</td>\n",
       "      <td>-0.007284</td>\n",
       "      <td>-0.011187</td>\n",
       "      <td>0.053336</td>\n",
       "      <td>-0.028398</td>\n",
       "      <td>0.014880</td>\n",
       "      <td>-0.165638</td>\n",
       "      <td>1.000000</td>\n",
       "      <td>0.055113</td>\n",
       "      <td>-0.004164</td>\n",
       "      <td>0.037353</td>\n",
       "      <td>0.009409</td>\n",
       "      <td>0.017544</td>\n",
       "      <td>-0.001004</td>\n",
       "      <td>0.018288</td>\n",
       "      <td>-0.007831</td>\n",
       "    </tr>\n",
       "    <tr>\n",
       "      <th>TotalBath</th>\n",
       "      <td>0.198652</td>\n",
       "      <td>0.284156</td>\n",
       "      <td>0.302903</td>\n",
       "      <td>0.464176</td>\n",
       "      <td>0.307168</td>\n",
       "      <td>0.435360</td>\n",
       "      <td>0.287308</td>\n",
       "      <td>0.005468</td>\n",
       "      <td>-0.052914</td>\n",
       "      <td>0.021922</td>\n",
       "      <td>0.055113</td>\n",
       "      <td>1.000000</td>\n",
       "      <td>0.085712</td>\n",
       "      <td>-0.553197</td>\n",
       "      <td>-0.464176</td>\n",
       "      <td>-0.441569</td>\n",
       "      <td>0.595156</td>\n",
       "      <td>0.290297</td>\n",
       "      <td>0.580644</td>\n",
       "    </tr>\n",
       "    <tr>\n",
       "      <th>TotalPorchSF</th>\n",
       "      <td>0.057547</td>\n",
       "      <td>0.071849</td>\n",
       "      <td>0.058317</td>\n",
       "      <td>0.149487</td>\n",
       "      <td>0.163005</td>\n",
       "      <td>0.077634</td>\n",
       "      <td>-0.084487</td>\n",
       "      <td>-0.034709</td>\n",
       "      <td>-0.007803</td>\n",
       "      <td>0.037132</td>\n",
       "      <td>-0.004164</td>\n",
       "      <td>0.085712</td>\n",
       "      <td>1.000000</td>\n",
       "      <td>0.125897</td>\n",
       "      <td>-0.018042</td>\n",
       "      <td>0.048299</td>\n",
       "      <td>0.205661</td>\n",
       "      <td>0.165010</td>\n",
       "      <td>0.239040</td>\n",
       "    </tr>\n",
       "    <tr>\n",
       "      <th>AgeOfHouse</th>\n",
       "      <td>0.115302</td>\n",
       "      <td>-0.261647</td>\n",
       "      <td>-0.316549</td>\n",
       "      <td>-0.155198</td>\n",
       "      <td>-0.186821</td>\n",
       "      <td>-0.526373</td>\n",
       "      <td>-0.243235</td>\n",
       "      <td>-0.009191</td>\n",
       "      <td>0.037876</td>\n",
       "      <td>-0.041048</td>\n",
       "      <td>0.037353</td>\n",
       "      <td>-0.553197</td>\n",
       "      <td>0.125897</td>\n",
       "      <td>1.000000</td>\n",
       "      <td>0.592031</td>\n",
       "      <td>0.681408</td>\n",
       "      <td>-0.411649</td>\n",
       "      <td>-0.187649</td>\n",
       "      <td>-0.250011</td>\n",
       "    </tr>\n",
       "    <tr>\n",
       "      <th>YearsSinceRemod</th>\n",
       "      <td>0.012233</td>\n",
       "      <td>-0.183167</td>\n",
       "      <td>-0.167366</td>\n",
       "      <td>-0.232479</td>\n",
       "      <td>-0.118928</td>\n",
       "      <td>-0.405158</td>\n",
       "      <td>-0.238543</td>\n",
       "      <td>-0.011192</td>\n",
       "      <td>0.003675</td>\n",
       "      <td>-0.041154</td>\n",
       "      <td>0.009409</td>\n",
       "      <td>-0.464176</td>\n",
       "      <td>-0.018042</td>\n",
       "      <td>0.592031</td>\n",
       "      <td>1.000000</td>\n",
       "      <td>0.558656</td>\n",
       "      <td>-0.388645</td>\n",
       "      <td>-0.477163</td>\n",
       "      <td>-0.326000</td>\n",
       "    </tr>\n",
       "    <tr>\n",
       "      <th>GarageAge</th>\n",
       "      <td>-0.017954</td>\n",
       "      <td>-0.132250</td>\n",
       "      <td>-0.203374</td>\n",
       "      <td>-0.171421</td>\n",
       "      <td>-0.024564</td>\n",
       "      <td>-0.353776</td>\n",
       "      <td>-0.218171</td>\n",
       "      <td>0.004241</td>\n",
       "      <td>0.025302</td>\n",
       "      <td>-0.029656</td>\n",
       "      <td>0.017544</td>\n",
       "      <td>-0.441569</td>\n",
       "      <td>0.048299</td>\n",
       "      <td>0.681408</td>\n",
       "      <td>0.558656</td>\n",
       "      <td>1.000000</td>\n",
       "      <td>-0.315848</td>\n",
       "      <td>-0.130043</td>\n",
       "      <td>-0.227591</td>\n",
       "    </tr>\n",
       "    <tr>\n",
       "      <th>TotalHouseSF</th>\n",
       "      <td>0.057786</td>\n",
       "      <td>0.420043</td>\n",
       "      <td>0.461908</td>\n",
       "      <td>0.668839</td>\n",
       "      <td>0.441065</td>\n",
       "      <td>0.536209</td>\n",
       "      <td>0.273182</td>\n",
       "      <td>-0.014007</td>\n",
       "      <td>-0.047570</td>\n",
       "      <td>0.067196</td>\n",
       "      <td>-0.001004</td>\n",
       "      <td>0.595156</td>\n",
       "      <td>0.205661</td>\n",
       "      <td>-0.411649</td>\n",
       "      <td>-0.388645</td>\n",
       "      <td>-0.315848</td>\n",
       "      <td>1.000000</td>\n",
       "      <td>0.408708</td>\n",
       "      <td>0.855462</td>\n",
       "    </tr>\n",
       "    <tr>\n",
       "      <th>OverallGrade</th>\n",
       "      <td>0.061730</td>\n",
       "      <td>0.174244</td>\n",
       "      <td>0.228541</td>\n",
       "      <td>0.284768</td>\n",
       "      <td>0.298856</td>\n",
       "      <td>0.332577</td>\n",
       "      <td>0.189764</td>\n",
       "      <td>0.010781</td>\n",
       "      <td>0.051394</td>\n",
       "      <td>0.035885</td>\n",
       "      <td>0.018288</td>\n",
       "      <td>0.290297</td>\n",
       "      <td>0.165010</td>\n",
       "      <td>-0.187649</td>\n",
       "      <td>-0.477163</td>\n",
       "      <td>-0.130043</td>\n",
       "      <td>0.408708</td>\n",
       "      <td>1.000000</td>\n",
       "      <td>0.404527</td>\n",
       "    </tr>\n",
       "    <tr>\n",
       "      <th>TotalSF</th>\n",
       "      <td>0.260022</td>\n",
       "      <td>0.387681</td>\n",
       "      <td>0.392074</td>\n",
       "      <td>0.832095</td>\n",
       "      <td>0.442845</td>\n",
       "      <td>0.432621</td>\n",
       "      <td>0.230767</td>\n",
       "      <td>-0.023587</td>\n",
       "      <td>-0.041214</td>\n",
       "      <td>0.073813</td>\n",
       "      <td>-0.007831</td>\n",
       "      <td>0.580644</td>\n",
       "      <td>0.239040</td>\n",
       "      <td>-0.250011</td>\n",
       "      <td>-0.326000</td>\n",
       "      <td>-0.227591</td>\n",
       "      <td>0.855462</td>\n",
       "      <td>0.404527</td>\n",
       "      <td>1.000000</td>\n",
       "    </tr>\n",
       "  </tbody>\n",
       "</table>\n",
       "</div>"
      ],
      "text/plain": [
       "                 MSSubClass   LotArea  MasVnrArea  TotRmsAbvGrd  Fireplaces  \\\n",
       "MSSubClass         1.000000 -0.098653   -0.008479      0.268739    0.054911   \n",
       "LotArea           -0.098653  1.000000    0.282674      0.337323    0.274961   \n",
       "MasVnrArea        -0.008479  0.282674    1.000000      0.314701    0.298512   \n",
       "TotRmsAbvGrd       0.268739  0.337323    0.314701      1.000000    0.303589   \n",
       "Fireplaces         0.054911  0.274961    0.298512      0.303589    1.000000   \n",
       "GarageArea        -0.065410  0.344511    0.389496      0.312483    0.237854   \n",
       "WoodDeckSF         0.002023  0.188372    0.161799      0.148154    0.187418   \n",
       "PoolArea          -0.001426  0.008989   -0.010717     -0.028814    0.027930   \n",
       "MiscVal           -0.007517  0.037639   -0.029063     -0.031468   -0.021076   \n",
       "MoSold             0.026768 -0.025261    0.024481      0.044457    0.046984   \n",
       "YrSold            -0.012337 -0.009743   -0.000860     -0.014025   -0.007284   \n",
       "TotalBath          0.198652  0.284156    0.302903      0.464176    0.307168   \n",
       "TotalPorchSF       0.057547  0.071849    0.058317      0.149487    0.163005   \n",
       "AgeOfHouse         0.115302 -0.261647   -0.316549     -0.155198   -0.186821   \n",
       "YearsSinceRemod    0.012233 -0.183167   -0.167366     -0.232479   -0.118928   \n",
       "GarageAge         -0.017954 -0.132250   -0.203374     -0.171421   -0.024564   \n",
       "TotalHouseSF       0.057786  0.420043    0.461908      0.668839    0.441065   \n",
       "OverallGrade       0.061730  0.174244    0.228541      0.284768    0.298856   \n",
       "TotalSF            0.260022  0.387681    0.392074      0.832095    0.442845   \n",
       "\n",
       "                 GarageArea  WoodDeckSF  PoolArea   MiscVal    MoSold  \\\n",
       "MSSubClass        -0.065410    0.002023 -0.001426 -0.007517  0.026768   \n",
       "LotArea            0.344511    0.188372  0.008989  0.037639 -0.025261   \n",
       "MasVnrArea         0.389496    0.161799 -0.010717 -0.029063  0.024481   \n",
       "TotRmsAbvGrd       0.312483    0.148154 -0.028814 -0.031468  0.044457   \n",
       "Fireplaces         0.237854    0.187418  0.027930 -0.021076  0.046984   \n",
       "GarageArea         1.000000    0.208984 -0.008532 -0.043796  0.031368   \n",
       "WoodDeckSF         0.208984    1.000000  0.050329 -0.025615  0.021794   \n",
       "PoolArea          -0.008532    0.050329  1.000000 -0.003550 -0.038701   \n",
       "MiscVal           -0.043796   -0.025615 -0.003550  1.000000 -0.020081   \n",
       "MoSold             0.031368    0.021794 -0.038701 -0.020081  1.000000   \n",
       "YrSold            -0.011187    0.053336 -0.028398  0.014880 -0.165638   \n",
       "TotalBath          0.435360    0.287308  0.005468 -0.052914  0.021922   \n",
       "TotalPorchSF       0.077634   -0.084487 -0.034709 -0.007803  0.037132   \n",
       "AgeOfHouse        -0.526373   -0.243235 -0.009191  0.037876 -0.041048   \n",
       "YearsSinceRemod   -0.405158   -0.238543 -0.011192  0.003675 -0.041154   \n",
       "GarageAge         -0.353776   -0.218171  0.004241  0.025302 -0.029656   \n",
       "TotalHouseSF       0.536209    0.273182 -0.014007 -0.047570  0.067196   \n",
       "OverallGrade       0.332577    0.189764  0.010781  0.051394  0.035885   \n",
       "TotalSF            0.432621    0.230767 -0.023587 -0.041214  0.073813   \n",
       "\n",
       "                   YrSold  TotalBath  TotalPorchSF  AgeOfHouse  \\\n",
       "MSSubClass      -0.012337   0.198652      0.057547    0.115302   \n",
       "LotArea         -0.009743   0.284156      0.071849   -0.261647   \n",
       "MasVnrArea      -0.000860   0.302903      0.058317   -0.316549   \n",
       "TotRmsAbvGrd    -0.014025   0.464176      0.149487   -0.155198   \n",
       "Fireplaces      -0.007284   0.307168      0.163005   -0.186821   \n",
       "GarageArea      -0.011187   0.435360      0.077634   -0.526373   \n",
       "WoodDeckSF       0.053336   0.287308     -0.084487   -0.243235   \n",
       "PoolArea        -0.028398   0.005468     -0.034709   -0.009191   \n",
       "MiscVal          0.014880  -0.052914     -0.007803    0.037876   \n",
       "MoSold          -0.165638   0.021922      0.037132   -0.041048   \n",
       "YrSold           1.000000   0.055113     -0.004164    0.037353   \n",
       "TotalBath        0.055113   1.000000      0.085712   -0.553197   \n",
       "TotalPorchSF    -0.004164   0.085712      1.000000    0.125897   \n",
       "AgeOfHouse       0.037353  -0.553197      0.125897    1.000000   \n",
       "YearsSinceRemod  0.009409  -0.464176     -0.018042    0.592031   \n",
       "GarageAge        0.017544  -0.441569      0.048299    0.681408   \n",
       "TotalHouseSF    -0.001004   0.595156      0.205661   -0.411649   \n",
       "OverallGrade     0.018288   0.290297      0.165010   -0.187649   \n",
       "TotalSF         -0.007831   0.580644      0.239040   -0.250011   \n",
       "\n",
       "                 YearsSinceRemod  GarageAge  TotalHouseSF  OverallGrade  \\\n",
       "MSSubClass              0.012233  -0.017954      0.057786      0.061730   \n",
       "LotArea                -0.183167  -0.132250      0.420043      0.174244   \n",
       "MasVnrArea             -0.167366  -0.203374      0.461908      0.228541   \n",
       "TotRmsAbvGrd           -0.232479  -0.171421      0.668839      0.284768   \n",
       "Fireplaces             -0.118928  -0.024564      0.441065      0.298856   \n",
       "GarageArea             -0.405158  -0.353776      0.536209      0.332577   \n",
       "WoodDeckSF             -0.238543  -0.218171      0.273182      0.189764   \n",
       "PoolArea               -0.011192   0.004241     -0.014007      0.010781   \n",
       "MiscVal                 0.003675   0.025302     -0.047570      0.051394   \n",
       "MoSold                 -0.041154  -0.029656      0.067196      0.035885   \n",
       "YrSold                  0.009409   0.017544     -0.001004      0.018288   \n",
       "TotalBath              -0.464176  -0.441569      0.595156      0.290297   \n",
       "TotalPorchSF           -0.018042   0.048299      0.205661      0.165010   \n",
       "AgeOfHouse              0.592031   0.681408     -0.411649     -0.187649   \n",
       "YearsSinceRemod         1.000000   0.558656     -0.388645     -0.477163   \n",
       "GarageAge               0.558656   1.000000     -0.315848     -0.130043   \n",
       "TotalHouseSF           -0.388645  -0.315848      1.000000      0.408708   \n",
       "OverallGrade           -0.477163  -0.130043      0.408708      1.000000   \n",
       "TotalSF                -0.326000  -0.227591      0.855462      0.404527   \n",
       "\n",
       "                  TotalSF  \n",
       "MSSubClass       0.260022  \n",
       "LotArea          0.387681  \n",
       "MasVnrArea       0.392074  \n",
       "TotRmsAbvGrd     0.832095  \n",
       "Fireplaces       0.442845  \n",
       "GarageArea       0.432621  \n",
       "WoodDeckSF       0.230767  \n",
       "PoolArea        -0.023587  \n",
       "MiscVal         -0.041214  \n",
       "MoSold           0.073813  \n",
       "YrSold          -0.007831  \n",
       "TotalBath        0.580644  \n",
       "TotalPorchSF     0.239040  \n",
       "AgeOfHouse      -0.250011  \n",
       "YearsSinceRemod -0.326000  \n",
       "GarageAge       -0.227591  \n",
       "TotalHouseSF     0.855462  \n",
       "OverallGrade     0.404527  \n",
       "TotalSF          1.000000  "
      ]
     },
     "execution_count": 11,
     "metadata": {},
     "output_type": "execute_result"
    }
   ],
   "source": [
    "corr = df.select_dtypes(\"number\").drop(columns=\"SalePrice\").corr()\n",
    "corr\n"
   ]
  },
  {
   "cell_type": "code",
   "execution_count": null,
   "id": "e76dc4e7",
   "metadata": {},
   "outputs": [],
   "source": []
  },
  {
   "cell_type": "markdown",
   "id": "85d6ec55",
   "metadata": {},
   "source": [
    "### Split"
   ]
  },
  {
   "cell_type": "code",
   "execution_count": 12,
   "id": "28678590",
   "metadata": {},
   "outputs": [],
   "source": [
    "target = \"SalePrice\"\n",
    "features = df.drop(columns=\"SalePrice\", axis=1)\n",
    "y_train = df[target]\n",
    "X_train = features"
   ]
  },
  {
   "cell_type": "markdown",
   "id": "0725d167",
   "metadata": {},
   "source": [
    "# Build Model\n"
   ]
  },
  {
   "cell_type": "markdown",
   "id": "8c7104b9",
   "metadata": {},
   "source": [
    "### Baseline"
   ]
  },
  {
   "cell_type": "code",
   "execution_count": 13,
   "id": "afc7afc2",
   "metadata": {},
   "outputs": [
    {
     "name": "stdout",
     "output_type": "stream",
     "text": [
      "Mean Apt Price: 176632.41\n",
      "Basline Mae: 53961.514490559006\n"
     ]
    }
   ],
   "source": [
    "y_mean = y_train.mean()\n",
    "y_pred_baseline = [y_mean]*len(y_train)\n",
    "\n",
    "print(f\"Mean Apt Price: {round(y_mean,2)}\")\n",
    "print(f\"Basline Mae: {mean_absolute_error(y_train, y_pred_baseline)}\")"
   ]
  },
  {
   "cell_type": "markdown",
   "id": "75330abb",
   "metadata": {},
   "source": [
    "### Iterate"
   ]
  },
  {
   "cell_type": "markdown",
   "id": "fe92283e",
   "metadata": {},
   "source": [
    "##### Encoding"
   ]
  },
  {
   "cell_type": "code",
   "execution_count": 14,
   "id": "b02d816a",
   "metadata": {},
   "outputs": [
    {
     "name": "stdout",
     "output_type": "stream",
     "text": [
      "(1172, 207)\n"
     ]
    },
    {
     "data": {
      "text/html": [
       "<div>\n",
       "<style scoped>\n",
       "    .dataframe tbody tr th:only-of-type {\n",
       "        vertical-align: middle;\n",
       "    }\n",
       "\n",
       "    .dataframe tbody tr th {\n",
       "        vertical-align: top;\n",
       "    }\n",
       "\n",
       "    .dataframe thead th {\n",
       "        text-align: right;\n",
       "    }\n",
       "</style>\n",
       "<table border=\"1\" class=\"dataframe\">\n",
       "  <thead>\n",
       "    <tr style=\"text-align: right;\">\n",
       "      <th></th>\n",
       "      <th>MSSubClass</th>\n",
       "      <th>MSZoning_RL</th>\n",
       "      <th>MSZoning_RM</th>\n",
       "      <th>MSZoning_C (all)</th>\n",
       "      <th>MSZoning_FV</th>\n",
       "      <th>MSZoning_RH</th>\n",
       "      <th>LotArea</th>\n",
       "      <th>Street_Pave</th>\n",
       "      <th>Street_Grvl</th>\n",
       "      <th>LotShape_Reg</th>\n",
       "      <th>...</th>\n",
       "      <th>Neighborhood_Tier_Mid</th>\n",
       "      <th>Neighborhood_Tier_Low</th>\n",
       "      <th>Exterior1st_Tier_Premium</th>\n",
       "      <th>Exterior1st_Tier_Mid</th>\n",
       "      <th>Exterior1st_Tier_High</th>\n",
       "      <th>Exterior1st_Tier_Low</th>\n",
       "      <th>Exterior2nd_Tier_Premium</th>\n",
       "      <th>Exterior2nd_Tier_Mid</th>\n",
       "      <th>Exterior2nd_Tier_High</th>\n",
       "      <th>Exterior2nd_Tier_Low</th>\n",
       "    </tr>\n",
       "    <tr>\n",
       "      <th>Id</th>\n",
       "      <th></th>\n",
       "      <th></th>\n",
       "      <th></th>\n",
       "      <th></th>\n",
       "      <th></th>\n",
       "      <th></th>\n",
       "      <th></th>\n",
       "      <th></th>\n",
       "      <th></th>\n",
       "      <th></th>\n",
       "      <th></th>\n",
       "      <th></th>\n",
       "      <th></th>\n",
       "      <th></th>\n",
       "      <th></th>\n",
       "      <th></th>\n",
       "      <th></th>\n",
       "      <th></th>\n",
       "      <th></th>\n",
       "      <th></th>\n",
       "      <th></th>\n",
       "    </tr>\n",
       "  </thead>\n",
       "  <tbody>\n",
       "    <tr>\n",
       "      <th>1</th>\n",
       "      <td>60</td>\n",
       "      <td>1</td>\n",
       "      <td>0</td>\n",
       "      <td>0</td>\n",
       "      <td>0</td>\n",
       "      <td>0</td>\n",
       "      <td>8450</td>\n",
       "      <td>1</td>\n",
       "      <td>0</td>\n",
       "      <td>1</td>\n",
       "      <td>...</td>\n",
       "      <td>0</td>\n",
       "      <td>0</td>\n",
       "      <td>1</td>\n",
       "      <td>0</td>\n",
       "      <td>0</td>\n",
       "      <td>0</td>\n",
       "      <td>1</td>\n",
       "      <td>0</td>\n",
       "      <td>0</td>\n",
       "      <td>0</td>\n",
       "    </tr>\n",
       "    <tr>\n",
       "      <th>2</th>\n",
       "      <td>20</td>\n",
       "      <td>1</td>\n",
       "      <td>0</td>\n",
       "      <td>0</td>\n",
       "      <td>0</td>\n",
       "      <td>0</td>\n",
       "      <td>9600</td>\n",
       "      <td>1</td>\n",
       "      <td>0</td>\n",
       "      <td>1</td>\n",
       "      <td>...</td>\n",
       "      <td>0</td>\n",
       "      <td>0</td>\n",
       "      <td>0</td>\n",
       "      <td>1</td>\n",
       "      <td>0</td>\n",
       "      <td>0</td>\n",
       "      <td>0</td>\n",
       "      <td>1</td>\n",
       "      <td>0</td>\n",
       "      <td>0</td>\n",
       "    </tr>\n",
       "    <tr>\n",
       "      <th>3</th>\n",
       "      <td>60</td>\n",
       "      <td>1</td>\n",
       "      <td>0</td>\n",
       "      <td>0</td>\n",
       "      <td>0</td>\n",
       "      <td>0</td>\n",
       "      <td>11250</td>\n",
       "      <td>1</td>\n",
       "      <td>0</td>\n",
       "      <td>0</td>\n",
       "      <td>...</td>\n",
       "      <td>0</td>\n",
       "      <td>0</td>\n",
       "      <td>1</td>\n",
       "      <td>0</td>\n",
       "      <td>0</td>\n",
       "      <td>0</td>\n",
       "      <td>1</td>\n",
       "      <td>0</td>\n",
       "      <td>0</td>\n",
       "      <td>0</td>\n",
       "    </tr>\n",
       "    <tr>\n",
       "      <th>4</th>\n",
       "      <td>70</td>\n",
       "      <td>1</td>\n",
       "      <td>0</td>\n",
       "      <td>0</td>\n",
       "      <td>0</td>\n",
       "      <td>0</td>\n",
       "      <td>9550</td>\n",
       "      <td>1</td>\n",
       "      <td>0</td>\n",
       "      <td>0</td>\n",
       "      <td>...</td>\n",
       "      <td>0</td>\n",
       "      <td>0</td>\n",
       "      <td>0</td>\n",
       "      <td>1</td>\n",
       "      <td>0</td>\n",
       "      <td>0</td>\n",
       "      <td>0</td>\n",
       "      <td>0</td>\n",
       "      <td>1</td>\n",
       "      <td>0</td>\n",
       "    </tr>\n",
       "    <tr>\n",
       "      <th>5</th>\n",
       "      <td>60</td>\n",
       "      <td>1</td>\n",
       "      <td>0</td>\n",
       "      <td>0</td>\n",
       "      <td>0</td>\n",
       "      <td>0</td>\n",
       "      <td>14260</td>\n",
       "      <td>1</td>\n",
       "      <td>0</td>\n",
       "      <td>0</td>\n",
       "      <td>...</td>\n",
       "      <td>0</td>\n",
       "      <td>0</td>\n",
       "      <td>1</td>\n",
       "      <td>0</td>\n",
       "      <td>0</td>\n",
       "      <td>0</td>\n",
       "      <td>1</td>\n",
       "      <td>0</td>\n",
       "      <td>0</td>\n",
       "      <td>0</td>\n",
       "    </tr>\n",
       "  </tbody>\n",
       "</table>\n",
       "<p>5 rows × 207 columns</p>\n",
       "</div>"
      ],
      "text/plain": [
       "    MSSubClass  MSZoning_RL  MSZoning_RM  MSZoning_C (all)  MSZoning_FV  \\\n",
       "Id                                                                        \n",
       "1           60            1            0                 0            0   \n",
       "2           20            1            0                 0            0   \n",
       "3           60            1            0                 0            0   \n",
       "4           70            1            0                 0            0   \n",
       "5           60            1            0                 0            0   \n",
       "\n",
       "    MSZoning_RH  LotArea  Street_Pave  Street_Grvl  LotShape_Reg  ...  \\\n",
       "Id                                                                ...   \n",
       "1             0     8450            1            0             1  ...   \n",
       "2             0     9600            1            0             1  ...   \n",
       "3             0    11250            1            0             0  ...   \n",
       "4             0     9550            1            0             0  ...   \n",
       "5             0    14260            1            0             0  ...   \n",
       "\n",
       "    Neighborhood_Tier_Mid  Neighborhood_Tier_Low  Exterior1st_Tier_Premium  \\\n",
       "Id                                                                           \n",
       "1                       0                      0                         1   \n",
       "2                       0                      0                         0   \n",
       "3                       0                      0                         1   \n",
       "4                       0                      0                         0   \n",
       "5                       0                      0                         1   \n",
       "\n",
       "    Exterior1st_Tier_Mid  Exterior1st_Tier_High  Exterior1st_Tier_Low  \\\n",
       "Id                                                                      \n",
       "1                      0                      0                     0   \n",
       "2                      1                      0                     0   \n",
       "3                      0                      0                     0   \n",
       "4                      1                      0                     0   \n",
       "5                      0                      0                     0   \n",
       "\n",
       "    Exterior2nd_Tier_Premium  Exterior2nd_Tier_Mid  Exterior2nd_Tier_High  \\\n",
       "Id                                                                          \n",
       "1                          1                     0                      0   \n",
       "2                          0                     1                      0   \n",
       "3                          1                     0                      0   \n",
       "4                          0                     0                      1   \n",
       "5                          1                     0                      0   \n",
       "\n",
       "    Exterior2nd_Tier_Low  \n",
       "Id                        \n",
       "1                      0  \n",
       "2                      0  \n",
       "3                      0  \n",
       "4                      0  \n",
       "5                      0  \n",
       "\n",
       "[5 rows x 207 columns]"
      ]
     },
     "execution_count": 14,
     "metadata": {},
     "output_type": "execute_result"
    }
   ],
   "source": [
    "#Instantiate\n",
    "ohe = OneHotEncoder(use_cat_names=True)\n",
    "\n",
    "#Fit\n",
    "ohe.fit(X_train)\n",
    "\n",
    "#Transform\n",
    "XT_train = ohe.transform(X_train)\n",
    "\n",
    "print(XT_train.shape)\n",
    "XT_train.head()"
   ]
  },
  {
   "cell_type": "markdown",
   "id": "020a4032",
   "metadata": {},
   "source": [
    "##### Model"
   ]
  },
  {
   "cell_type": "code",
   "execution_count": 15,
   "id": "6f9ef66e",
   "metadata": {},
   "outputs": [
    {
     "data": {
      "text/html": [
       "<style>#sk-container-id-1 {\n",
       "  /* Definition of color scheme common for light and dark mode */\n",
       "  --sklearn-color-text: #000;\n",
       "  --sklearn-color-text-muted: #666;\n",
       "  --sklearn-color-line: gray;\n",
       "  /* Definition of color scheme for unfitted estimators */\n",
       "  --sklearn-color-unfitted-level-0: #fff5e6;\n",
       "  --sklearn-color-unfitted-level-1: #f6e4d2;\n",
       "  --sklearn-color-unfitted-level-2: #ffe0b3;\n",
       "  --sklearn-color-unfitted-level-3: chocolate;\n",
       "  /* Definition of color scheme for fitted estimators */\n",
       "  --sklearn-color-fitted-level-0: #f0f8ff;\n",
       "  --sklearn-color-fitted-level-1: #d4ebff;\n",
       "  --sklearn-color-fitted-level-2: #b3dbfd;\n",
       "  --sklearn-color-fitted-level-3: cornflowerblue;\n",
       "\n",
       "  /* Specific color for light theme */\n",
       "  --sklearn-color-text-on-default-background: var(--sg-text-color, var(--theme-code-foreground, var(--jp-content-font-color1, black)));\n",
       "  --sklearn-color-background: var(--sg-background-color, var(--theme-background, var(--jp-layout-color0, white)));\n",
       "  --sklearn-color-border-box: var(--sg-text-color, var(--theme-code-foreground, var(--jp-content-font-color1, black)));\n",
       "  --sklearn-color-icon: #696969;\n",
       "\n",
       "  @media (prefers-color-scheme: dark) {\n",
       "    /* Redefinition of color scheme for dark theme */\n",
       "    --sklearn-color-text-on-default-background: var(--sg-text-color, var(--theme-code-foreground, var(--jp-content-font-color1, white)));\n",
       "    --sklearn-color-background: var(--sg-background-color, var(--theme-background, var(--jp-layout-color0, #111)));\n",
       "    --sklearn-color-border-box: var(--sg-text-color, var(--theme-code-foreground, var(--jp-content-font-color1, white)));\n",
       "    --sklearn-color-icon: #878787;\n",
       "  }\n",
       "}\n",
       "\n",
       "#sk-container-id-1 {\n",
       "  color: var(--sklearn-color-text);\n",
       "}\n",
       "\n",
       "#sk-container-id-1 pre {\n",
       "  padding: 0;\n",
       "}\n",
       "\n",
       "#sk-container-id-1 input.sk-hidden--visually {\n",
       "  border: 0;\n",
       "  clip: rect(1px 1px 1px 1px);\n",
       "  clip: rect(1px, 1px, 1px, 1px);\n",
       "  height: 1px;\n",
       "  margin: -1px;\n",
       "  overflow: hidden;\n",
       "  padding: 0;\n",
       "  position: absolute;\n",
       "  width: 1px;\n",
       "}\n",
       "\n",
       "#sk-container-id-1 div.sk-dashed-wrapped {\n",
       "  border: 1px dashed var(--sklearn-color-line);\n",
       "  margin: 0 0.4em 0.5em 0.4em;\n",
       "  box-sizing: border-box;\n",
       "  padding-bottom: 0.4em;\n",
       "  background-color: var(--sklearn-color-background);\n",
       "}\n",
       "\n",
       "#sk-container-id-1 div.sk-container {\n",
       "  /* jupyter's `normalize.less` sets `[hidden] { display: none; }`\n",
       "     but bootstrap.min.css set `[hidden] { display: none !important; }`\n",
       "     so we also need the `!important` here to be able to override the\n",
       "     default hidden behavior on the sphinx rendered scikit-learn.org.\n",
       "     See: https://github.com/scikit-learn/scikit-learn/issues/21755 */\n",
       "  display: inline-block !important;\n",
       "  position: relative;\n",
       "}\n",
       "\n",
       "#sk-container-id-1 div.sk-text-repr-fallback {\n",
       "  display: none;\n",
       "}\n",
       "\n",
       "div.sk-parallel-item,\n",
       "div.sk-serial,\n",
       "div.sk-item {\n",
       "  /* draw centered vertical line to link estimators */\n",
       "  background-image: linear-gradient(var(--sklearn-color-text-on-default-background), var(--sklearn-color-text-on-default-background));\n",
       "  background-size: 2px 100%;\n",
       "  background-repeat: no-repeat;\n",
       "  background-position: center center;\n",
       "}\n",
       "\n",
       "/* Parallel-specific style estimator block */\n",
       "\n",
       "#sk-container-id-1 div.sk-parallel-item::after {\n",
       "  content: \"\";\n",
       "  width: 100%;\n",
       "  border-bottom: 2px solid var(--sklearn-color-text-on-default-background);\n",
       "  flex-grow: 1;\n",
       "}\n",
       "\n",
       "#sk-container-id-1 div.sk-parallel {\n",
       "  display: flex;\n",
       "  align-items: stretch;\n",
       "  justify-content: center;\n",
       "  background-color: var(--sklearn-color-background);\n",
       "  position: relative;\n",
       "}\n",
       "\n",
       "#sk-container-id-1 div.sk-parallel-item {\n",
       "  display: flex;\n",
       "  flex-direction: column;\n",
       "}\n",
       "\n",
       "#sk-container-id-1 div.sk-parallel-item:first-child::after {\n",
       "  align-self: flex-end;\n",
       "  width: 50%;\n",
       "}\n",
       "\n",
       "#sk-container-id-1 div.sk-parallel-item:last-child::after {\n",
       "  align-self: flex-start;\n",
       "  width: 50%;\n",
       "}\n",
       "\n",
       "#sk-container-id-1 div.sk-parallel-item:only-child::after {\n",
       "  width: 0;\n",
       "}\n",
       "\n",
       "/* Serial-specific style estimator block */\n",
       "\n",
       "#sk-container-id-1 div.sk-serial {\n",
       "  display: flex;\n",
       "  flex-direction: column;\n",
       "  align-items: center;\n",
       "  background-color: var(--sklearn-color-background);\n",
       "  padding-right: 1em;\n",
       "  padding-left: 1em;\n",
       "}\n",
       "\n",
       "\n",
       "/* Toggleable style: style used for estimator/Pipeline/ColumnTransformer box that is\n",
       "clickable and can be expanded/collapsed.\n",
       "- Pipeline and ColumnTransformer use this feature and define the default style\n",
       "- Estimators will overwrite some part of the style using the `sk-estimator` class\n",
       "*/\n",
       "\n",
       "/* Pipeline and ColumnTransformer style (default) */\n",
       "\n",
       "#sk-container-id-1 div.sk-toggleable {\n",
       "  /* Default theme specific background. It is overwritten whether we have a\n",
       "  specific estimator or a Pipeline/ColumnTransformer */\n",
       "  background-color: var(--sklearn-color-background);\n",
       "}\n",
       "\n",
       "/* Toggleable label */\n",
       "#sk-container-id-1 label.sk-toggleable__label {\n",
       "  cursor: pointer;\n",
       "  display: flex;\n",
       "  width: 100%;\n",
       "  margin-bottom: 0;\n",
       "  padding: 0.5em;\n",
       "  box-sizing: border-box;\n",
       "  text-align: center;\n",
       "  align-items: start;\n",
       "  justify-content: space-between;\n",
       "  gap: 0.5em;\n",
       "}\n",
       "\n",
       "#sk-container-id-1 label.sk-toggleable__label .caption {\n",
       "  font-size: 0.6rem;\n",
       "  font-weight: lighter;\n",
       "  color: var(--sklearn-color-text-muted);\n",
       "}\n",
       "\n",
       "#sk-container-id-1 label.sk-toggleable__label-arrow:before {\n",
       "  /* Arrow on the left of the label */\n",
       "  content: \"▸\";\n",
       "  float: left;\n",
       "  margin-right: 0.25em;\n",
       "  color: var(--sklearn-color-icon);\n",
       "}\n",
       "\n",
       "#sk-container-id-1 label.sk-toggleable__label-arrow:hover:before {\n",
       "  color: var(--sklearn-color-text);\n",
       "}\n",
       "\n",
       "/* Toggleable content - dropdown */\n",
       "\n",
       "#sk-container-id-1 div.sk-toggleable__content {\n",
       "  max-height: 0;\n",
       "  max-width: 0;\n",
       "  overflow: hidden;\n",
       "  text-align: left;\n",
       "  /* unfitted */\n",
       "  background-color: var(--sklearn-color-unfitted-level-0);\n",
       "}\n",
       "\n",
       "#sk-container-id-1 div.sk-toggleable__content.fitted {\n",
       "  /* fitted */\n",
       "  background-color: var(--sklearn-color-fitted-level-0);\n",
       "}\n",
       "\n",
       "#sk-container-id-1 div.sk-toggleable__content pre {\n",
       "  margin: 0.2em;\n",
       "  border-radius: 0.25em;\n",
       "  color: var(--sklearn-color-text);\n",
       "  /* unfitted */\n",
       "  background-color: var(--sklearn-color-unfitted-level-0);\n",
       "}\n",
       "\n",
       "#sk-container-id-1 div.sk-toggleable__content.fitted pre {\n",
       "  /* unfitted */\n",
       "  background-color: var(--sklearn-color-fitted-level-0);\n",
       "}\n",
       "\n",
       "#sk-container-id-1 input.sk-toggleable__control:checked~div.sk-toggleable__content {\n",
       "  /* Expand drop-down */\n",
       "  max-height: 200px;\n",
       "  max-width: 100%;\n",
       "  overflow: auto;\n",
       "}\n",
       "\n",
       "#sk-container-id-1 input.sk-toggleable__control:checked~label.sk-toggleable__label-arrow:before {\n",
       "  content: \"▾\";\n",
       "}\n",
       "\n",
       "/* Pipeline/ColumnTransformer-specific style */\n",
       "\n",
       "#sk-container-id-1 div.sk-label input.sk-toggleable__control:checked~label.sk-toggleable__label {\n",
       "  color: var(--sklearn-color-text);\n",
       "  background-color: var(--sklearn-color-unfitted-level-2);\n",
       "}\n",
       "\n",
       "#sk-container-id-1 div.sk-label.fitted input.sk-toggleable__control:checked~label.sk-toggleable__label {\n",
       "  background-color: var(--sklearn-color-fitted-level-2);\n",
       "}\n",
       "\n",
       "/* Estimator-specific style */\n",
       "\n",
       "/* Colorize estimator box */\n",
       "#sk-container-id-1 div.sk-estimator input.sk-toggleable__control:checked~label.sk-toggleable__label {\n",
       "  /* unfitted */\n",
       "  background-color: var(--sklearn-color-unfitted-level-2);\n",
       "}\n",
       "\n",
       "#sk-container-id-1 div.sk-estimator.fitted input.sk-toggleable__control:checked~label.sk-toggleable__label {\n",
       "  /* fitted */\n",
       "  background-color: var(--sklearn-color-fitted-level-2);\n",
       "}\n",
       "\n",
       "#sk-container-id-1 div.sk-label label.sk-toggleable__label,\n",
       "#sk-container-id-1 div.sk-label label {\n",
       "  /* The background is the default theme color */\n",
       "  color: var(--sklearn-color-text-on-default-background);\n",
       "}\n",
       "\n",
       "/* On hover, darken the color of the background */\n",
       "#sk-container-id-1 div.sk-label:hover label.sk-toggleable__label {\n",
       "  color: var(--sklearn-color-text);\n",
       "  background-color: var(--sklearn-color-unfitted-level-2);\n",
       "}\n",
       "\n",
       "/* Label box, darken color on hover, fitted */\n",
       "#sk-container-id-1 div.sk-label.fitted:hover label.sk-toggleable__label.fitted {\n",
       "  color: var(--sklearn-color-text);\n",
       "  background-color: var(--sklearn-color-fitted-level-2);\n",
       "}\n",
       "\n",
       "/* Estimator label */\n",
       "\n",
       "#sk-container-id-1 div.sk-label label {\n",
       "  font-family: monospace;\n",
       "  font-weight: bold;\n",
       "  display: inline-block;\n",
       "  line-height: 1.2em;\n",
       "}\n",
       "\n",
       "#sk-container-id-1 div.sk-label-container {\n",
       "  text-align: center;\n",
       "}\n",
       "\n",
       "/* Estimator-specific */\n",
       "#sk-container-id-1 div.sk-estimator {\n",
       "  font-family: monospace;\n",
       "  border: 1px dotted var(--sklearn-color-border-box);\n",
       "  border-radius: 0.25em;\n",
       "  box-sizing: border-box;\n",
       "  margin-bottom: 0.5em;\n",
       "  /* unfitted */\n",
       "  background-color: var(--sklearn-color-unfitted-level-0);\n",
       "}\n",
       "\n",
       "#sk-container-id-1 div.sk-estimator.fitted {\n",
       "  /* fitted */\n",
       "  background-color: var(--sklearn-color-fitted-level-0);\n",
       "}\n",
       "\n",
       "/* on hover */\n",
       "#sk-container-id-1 div.sk-estimator:hover {\n",
       "  /* unfitted */\n",
       "  background-color: var(--sklearn-color-unfitted-level-2);\n",
       "}\n",
       "\n",
       "#sk-container-id-1 div.sk-estimator.fitted:hover {\n",
       "  /* fitted */\n",
       "  background-color: var(--sklearn-color-fitted-level-2);\n",
       "}\n",
       "\n",
       "/* Specification for estimator info (e.g. \"i\" and \"?\") */\n",
       "\n",
       "/* Common style for \"i\" and \"?\" */\n",
       "\n",
       ".sk-estimator-doc-link,\n",
       "a:link.sk-estimator-doc-link,\n",
       "a:visited.sk-estimator-doc-link {\n",
       "  float: right;\n",
       "  font-size: smaller;\n",
       "  line-height: 1em;\n",
       "  font-family: monospace;\n",
       "  background-color: var(--sklearn-color-background);\n",
       "  border-radius: 1em;\n",
       "  height: 1em;\n",
       "  width: 1em;\n",
       "  text-decoration: none !important;\n",
       "  margin-left: 0.5em;\n",
       "  text-align: center;\n",
       "  /* unfitted */\n",
       "  border: var(--sklearn-color-unfitted-level-1) 1pt solid;\n",
       "  color: var(--sklearn-color-unfitted-level-1);\n",
       "}\n",
       "\n",
       ".sk-estimator-doc-link.fitted,\n",
       "a:link.sk-estimator-doc-link.fitted,\n",
       "a:visited.sk-estimator-doc-link.fitted {\n",
       "  /* fitted */\n",
       "  border: var(--sklearn-color-fitted-level-1) 1pt solid;\n",
       "  color: var(--sklearn-color-fitted-level-1);\n",
       "}\n",
       "\n",
       "/* On hover */\n",
       "div.sk-estimator:hover .sk-estimator-doc-link:hover,\n",
       ".sk-estimator-doc-link:hover,\n",
       "div.sk-label-container:hover .sk-estimator-doc-link:hover,\n",
       ".sk-estimator-doc-link:hover {\n",
       "  /* unfitted */\n",
       "  background-color: var(--sklearn-color-unfitted-level-3);\n",
       "  color: var(--sklearn-color-background);\n",
       "  text-decoration: none;\n",
       "}\n",
       "\n",
       "div.sk-estimator.fitted:hover .sk-estimator-doc-link.fitted:hover,\n",
       ".sk-estimator-doc-link.fitted:hover,\n",
       "div.sk-label-container:hover .sk-estimator-doc-link.fitted:hover,\n",
       ".sk-estimator-doc-link.fitted:hover {\n",
       "  /* fitted */\n",
       "  background-color: var(--sklearn-color-fitted-level-3);\n",
       "  color: var(--sklearn-color-background);\n",
       "  text-decoration: none;\n",
       "}\n",
       "\n",
       "/* Span, style for the box shown on hovering the info icon */\n",
       ".sk-estimator-doc-link span {\n",
       "  display: none;\n",
       "  z-index: 9999;\n",
       "  position: relative;\n",
       "  font-weight: normal;\n",
       "  right: .2ex;\n",
       "  padding: .5ex;\n",
       "  margin: .5ex;\n",
       "  width: min-content;\n",
       "  min-width: 20ex;\n",
       "  max-width: 50ex;\n",
       "  color: var(--sklearn-color-text);\n",
       "  box-shadow: 2pt 2pt 4pt #999;\n",
       "  /* unfitted */\n",
       "  background: var(--sklearn-color-unfitted-level-0);\n",
       "  border: .5pt solid var(--sklearn-color-unfitted-level-3);\n",
       "}\n",
       "\n",
       ".sk-estimator-doc-link.fitted span {\n",
       "  /* fitted */\n",
       "  background: var(--sklearn-color-fitted-level-0);\n",
       "  border: var(--sklearn-color-fitted-level-3);\n",
       "}\n",
       "\n",
       ".sk-estimator-doc-link:hover span {\n",
       "  display: block;\n",
       "}\n",
       "\n",
       "/* \"?\"-specific style due to the `<a>` HTML tag */\n",
       "\n",
       "#sk-container-id-1 a.estimator_doc_link {\n",
       "  float: right;\n",
       "  font-size: 1rem;\n",
       "  line-height: 1em;\n",
       "  font-family: monospace;\n",
       "  background-color: var(--sklearn-color-background);\n",
       "  border-radius: 1rem;\n",
       "  height: 1rem;\n",
       "  width: 1rem;\n",
       "  text-decoration: none;\n",
       "  /* unfitted */\n",
       "  color: var(--sklearn-color-unfitted-level-1);\n",
       "  border: var(--sklearn-color-unfitted-level-1) 1pt solid;\n",
       "}\n",
       "\n",
       "#sk-container-id-1 a.estimator_doc_link.fitted {\n",
       "  /* fitted */\n",
       "  border: var(--sklearn-color-fitted-level-1) 1pt solid;\n",
       "  color: var(--sklearn-color-fitted-level-1);\n",
       "}\n",
       "\n",
       "/* On hover */\n",
       "#sk-container-id-1 a.estimator_doc_link:hover {\n",
       "  /* unfitted */\n",
       "  background-color: var(--sklearn-color-unfitted-level-3);\n",
       "  color: var(--sklearn-color-background);\n",
       "  text-decoration: none;\n",
       "}\n",
       "\n",
       "#sk-container-id-1 a.estimator_doc_link.fitted:hover {\n",
       "  /* fitted */\n",
       "  background-color: var(--sklearn-color-fitted-level-3);\n",
       "}\n",
       "</style><div id=\"sk-container-id-1\" class=\"sk-top-container\"><div class=\"sk-text-repr-fallback\"><pre>Pipeline(steps=[(&#x27;onehotencoder&#x27;,\n",
       "                 OneHotEncoder(cols=[&#x27;MSZoning&#x27;, &#x27;Street&#x27;, &#x27;LotShape&#x27;,\n",
       "                                     &#x27;LandContour&#x27;, &#x27;Utilities&#x27;, &#x27;LotConfig&#x27;,\n",
       "                                     &#x27;LandSlope&#x27;, &#x27;Condition1&#x27;, &#x27;Condition2&#x27;,\n",
       "                                     &#x27;BldgType&#x27;, &#x27;HouseStyle&#x27;, &#x27;RoofStyle&#x27;,\n",
       "                                     &#x27;RoofMatl&#x27;, &#x27;ExterQual&#x27;, &#x27;ExterCond&#x27;,\n",
       "                                     &#x27;Foundation&#x27;, &#x27;BsmtQual&#x27;, &#x27;BsmtCond&#x27;,\n",
       "                                     &#x27;BsmtExposure&#x27;, &#x27;BsmtFinType1&#x27;,\n",
       "                                     &#x27;BsmtFinType2&#x27;, &#x27;Heating&#x27;, &#x27;HeatingQC&#x27;,\n",
       "                                     &#x27;CentralAir&#x27;, &#x27;Electrical&#x27;, &#x27;KitchenQual&#x27;,\n",
       "                                     &#x27;Functional&#x27;, &#x27;GarageType&#x27;, &#x27;GarageFinish&#x27;,\n",
       "                                     &#x27;GarageQual&#x27;, ...],\n",
       "                               use_cat_names=True)),\n",
       "                (&#x27;simpleimputer&#x27;, SimpleImputer()), (&#x27;ridge&#x27;, Ridge())])</pre><b>In a Jupyter environment, please rerun this cell to show the HTML representation or trust the notebook. <br />On GitHub, the HTML representation is unable to render, please try loading this page with nbviewer.org.</b></div><div class=\"sk-container\" hidden><div class=\"sk-item sk-dashed-wrapped\"><div class=\"sk-label-container\"><div class=\"sk-label fitted sk-toggleable\"><input class=\"sk-toggleable__control sk-hidden--visually\" id=\"sk-estimator-id-1\" type=\"checkbox\" ><label for=\"sk-estimator-id-1\" class=\"sk-toggleable__label fitted sk-toggleable__label-arrow\"><div><div>Pipeline</div></div><div><a class=\"sk-estimator-doc-link fitted\" rel=\"noreferrer\" target=\"_blank\" href=\"https://scikit-learn.org/1.6/modules/generated/sklearn.pipeline.Pipeline.html\">?<span>Documentation for Pipeline</span></a><span class=\"sk-estimator-doc-link fitted\">i<span>Fitted</span></span></div></label><div class=\"sk-toggleable__content fitted\"><pre>Pipeline(steps=[(&#x27;onehotencoder&#x27;,\n",
       "                 OneHotEncoder(cols=[&#x27;MSZoning&#x27;, &#x27;Street&#x27;, &#x27;LotShape&#x27;,\n",
       "                                     &#x27;LandContour&#x27;, &#x27;Utilities&#x27;, &#x27;LotConfig&#x27;,\n",
       "                                     &#x27;LandSlope&#x27;, &#x27;Condition1&#x27;, &#x27;Condition2&#x27;,\n",
       "                                     &#x27;BldgType&#x27;, &#x27;HouseStyle&#x27;, &#x27;RoofStyle&#x27;,\n",
       "                                     &#x27;RoofMatl&#x27;, &#x27;ExterQual&#x27;, &#x27;ExterCond&#x27;,\n",
       "                                     &#x27;Foundation&#x27;, &#x27;BsmtQual&#x27;, &#x27;BsmtCond&#x27;,\n",
       "                                     &#x27;BsmtExposure&#x27;, &#x27;BsmtFinType1&#x27;,\n",
       "                                     &#x27;BsmtFinType2&#x27;, &#x27;Heating&#x27;, &#x27;HeatingQC&#x27;,\n",
       "                                     &#x27;CentralAir&#x27;, &#x27;Electrical&#x27;, &#x27;KitchenQual&#x27;,\n",
       "                                     &#x27;Functional&#x27;, &#x27;GarageType&#x27;, &#x27;GarageFinish&#x27;,\n",
       "                                     &#x27;GarageQual&#x27;, ...],\n",
       "                               use_cat_names=True)),\n",
       "                (&#x27;simpleimputer&#x27;, SimpleImputer()), (&#x27;ridge&#x27;, Ridge())])</pre></div> </div></div><div class=\"sk-serial\"><div class=\"sk-item\"><div class=\"sk-estimator fitted sk-toggleable\"><input class=\"sk-toggleable__control sk-hidden--visually\" id=\"sk-estimator-id-2\" type=\"checkbox\" ><label for=\"sk-estimator-id-2\" class=\"sk-toggleable__label fitted sk-toggleable__label-arrow\"><div><div>OneHotEncoder</div></div></label><div class=\"sk-toggleable__content fitted\"><pre>OneHotEncoder(cols=[&#x27;MSZoning&#x27;, &#x27;Street&#x27;, &#x27;LotShape&#x27;, &#x27;LandContour&#x27;,\n",
       "                    &#x27;Utilities&#x27;, &#x27;LotConfig&#x27;, &#x27;LandSlope&#x27;, &#x27;Condition1&#x27;,\n",
       "                    &#x27;Condition2&#x27;, &#x27;BldgType&#x27;, &#x27;HouseStyle&#x27;, &#x27;RoofStyle&#x27;,\n",
       "                    &#x27;RoofMatl&#x27;, &#x27;ExterQual&#x27;, &#x27;ExterCond&#x27;, &#x27;Foundation&#x27;,\n",
       "                    &#x27;BsmtQual&#x27;, &#x27;BsmtCond&#x27;, &#x27;BsmtExposure&#x27;, &#x27;BsmtFinType1&#x27;,\n",
       "                    &#x27;BsmtFinType2&#x27;, &#x27;Heating&#x27;, &#x27;HeatingQC&#x27;, &#x27;CentralAir&#x27;,\n",
       "                    &#x27;Electrical&#x27;, &#x27;KitchenQual&#x27;, &#x27;Functional&#x27;, &#x27;GarageType&#x27;,\n",
       "                    &#x27;GarageFinish&#x27;, &#x27;GarageQual&#x27;, ...],\n",
       "              use_cat_names=True)</pre></div> </div></div><div class=\"sk-item\"><div class=\"sk-estimator fitted sk-toggleable\"><input class=\"sk-toggleable__control sk-hidden--visually\" id=\"sk-estimator-id-3\" type=\"checkbox\" ><label for=\"sk-estimator-id-3\" class=\"sk-toggleable__label fitted sk-toggleable__label-arrow\"><div><div>SimpleImputer</div></div><div><a class=\"sk-estimator-doc-link fitted\" rel=\"noreferrer\" target=\"_blank\" href=\"https://scikit-learn.org/1.6/modules/generated/sklearn.impute.SimpleImputer.html\">?<span>Documentation for SimpleImputer</span></a></div></label><div class=\"sk-toggleable__content fitted\"><pre>SimpleImputer()</pre></div> </div></div><div class=\"sk-item\"><div class=\"sk-estimator fitted sk-toggleable\"><input class=\"sk-toggleable__control sk-hidden--visually\" id=\"sk-estimator-id-4\" type=\"checkbox\" ><label for=\"sk-estimator-id-4\" class=\"sk-toggleable__label fitted sk-toggleable__label-arrow\"><div><div>Ridge</div></div><div><a class=\"sk-estimator-doc-link fitted\" rel=\"noreferrer\" target=\"_blank\" href=\"https://scikit-learn.org/1.6/modules/generated/sklearn.linear_model.Ridge.html\">?<span>Documentation for Ridge</span></a></div></label><div class=\"sk-toggleable__content fitted\"><pre>Ridge()</pre></div> </div></div></div></div></div></div>"
      ],
      "text/plain": [
       "Pipeline(steps=[('onehotencoder',\n",
       "                 OneHotEncoder(cols=['MSZoning', 'Street', 'LotShape',\n",
       "                                     'LandContour', 'Utilities', 'LotConfig',\n",
       "                                     'LandSlope', 'Condition1', 'Condition2',\n",
       "                                     'BldgType', 'HouseStyle', 'RoofStyle',\n",
       "                                     'RoofMatl', 'ExterQual', 'ExterCond',\n",
       "                                     'Foundation', 'BsmtQual', 'BsmtCond',\n",
       "                                     'BsmtExposure', 'BsmtFinType1',\n",
       "                                     'BsmtFinType2', 'Heating', 'HeatingQC',\n",
       "                                     'CentralAir', 'Electrical', 'KitchenQual',\n",
       "                                     'Functional', 'GarageType', 'GarageFinish',\n",
       "                                     'GarageQual', ...],\n",
       "                               use_cat_names=True)),\n",
       "                ('simpleimputer', SimpleImputer()), ('ridge', Ridge())])"
      ]
     },
     "execution_count": 15,
     "metadata": {},
     "output_type": "execute_result"
    }
   ],
   "source": [
    "#Make pipeline\n",
    "model = make_pipeline(\n",
    "    OneHotEncoder(use_cat_names=True),\n",
    "    SimpleImputer(strategy=\"mean\"),\n",
    "    Ridge()\n",
    ")\n",
    "#Fit model\n",
    "model.fit(X_train,y_train)"
   ]
  },
  {
   "cell_type": "code",
   "execution_count": 16,
   "id": "80cfb9c0",
   "metadata": {},
   "outputs": [],
   "source": [
    "check_is_fitted(model[-1])"
   ]
  },
  {
   "cell_type": "markdown",
   "id": "f5ee9257",
   "metadata": {},
   "source": [
    "### Evaluate"
   ]
  },
  {
   "cell_type": "code",
   "execution_count": 17,
   "id": "3f161a76",
   "metadata": {},
   "outputs": [
    {
     "name": "stdout",
     "output_type": "stream",
     "text": [
      "Training MAE: 13047.242917937536\n"
     ]
    }
   ],
   "source": [
    "# Calculate the training mean absolute error for your predictions as compared to the true targets in y_train\n",
    "y_pred_training = model.predict(X_train)\n",
    "print(f\"Training MAE: {mean_absolute_error(y_train, y_pred_training)}\")"
   ]
  },
  {
   "cell_type": "markdown",
   "id": "4ef5d2b7",
   "metadata": {},
   "source": [
    "##### Import test data"
   ]
  },
  {
   "cell_type": "code",
   "execution_count": 19,
   "id": "b8cbbce4",
   "metadata": {},
   "outputs": [
    {
     "data": {
      "text/plain": [
       "0    105175.565456\n",
       "1    186594.004873\n",
       "2    195851.232792\n",
       "3    206766.910191\n",
       "4    170321.720585\n",
       "dtype: float64"
      ]
     },
     "execution_count": 19,
     "metadata": {},
     "output_type": "execute_result"
    }
   ],
   "source": [
    "X_test = pd.read_csv(\"test_cleaned.csv\")\n",
    "y_pred_test = pd.Series(model.predict(X_test))\n",
    "y_pred_test.head()"
   ]
  },
  {
   "cell_type": "code",
   "execution_count": 21,
   "id": "ab9ef0cc",
   "metadata": {},
   "outputs": [],
   "source": [
    "test_raw = pd.read_csv(\"test.csv\")\n"
   ]
  },
  {
   "cell_type": "code",
   "execution_count": 22,
   "id": "2269000f",
   "metadata": {},
   "outputs": [],
   "source": [
    "submission = pd.DataFrame({\n",
    "    \"Id\": test_raw[\"Id\"],  # make sure test has 'Id'\n",
    "    \"SalePrice\": y_pred_test  # your model's predictions\n",
    "})\n",
    "submission.to_csv(\"submission.csv\", index=False)\n"
   ]
  },
  {
   "cell_type": "markdown",
   "id": "83cd7c47",
   "metadata": {},
   "source": [
    "# Communicate Results"
   ]
  },
  {
   "cell_type": "code",
   "execution_count": 24,
   "id": "8034bc70",
   "metadata": {},
   "outputs": [
    {
     "data": {
      "text/plain": [
       "Exterior1st_Tier_Low       -1042.499757\n",
       "Exterior2nd_Tier_Premium   -2002.596960\n",
       "Exterior2nd_Tier_Mid        3607.230882\n",
       "Exterior2nd_Tier_High      -2096.396876\n",
       "Exterior2nd_Tier_Low         491.762954\n",
       "dtype: float64"
      ]
     },
     "execution_count": 24,
     "metadata": {},
     "output_type": "execute_result"
    }
   ],
   "source": [
    "coefficients =model.named_steps[\"ridge\"].coef_\n",
    "features =model.named_steps['onehotencoder'].get_feature_names_out()\n",
    "feat_imp =pd.Series(coefficients,index=features)\n",
    "feat_imp.tail()"
   ]
  },
  {
   "cell_type": "code",
   "execution_count": 26,
   "id": "433d6c3a",
   "metadata": {},
   "outputs": [
    {
     "data": {
      "text/plain": [
       "Text(0.5, 1.0, 'Feature Importances for Apartment Price')"
      ]
     },
     "execution_count": 26,
     "metadata": {},
     "output_type": "execute_result"
    },
    {
     "data": {
      "image/png": "[encoded data removed]",
      "text/plain": [
       "<Figure size 640x480 with 1 Axes>"
      ]
     },
     "metadata": {},
     "output_type": "display_data"
    }
   ],
   "source": [
    "# Build bar chart\n",
    "feat_imp.sort_values(key=abs).tail(10).plot(kind=\"barh\")\n",
    "\n",
    "\n",
    "# Label axes\n",
    "plt.xlabel(\"Importance [USD]\")\n",
    "plt.ylabel(\"Feature\")\n",
    "# Add title\n",
    "plt.title(\"Feature Importances for Apartment Price\")\n",
    "\n",
    "\n"
   ]
  },
  {
   "cell_type": "code",
   "execution_count": 30,
   "id": "8bfe75e0",
   "metadata": {},
   "outputs": [
    {
     "data": {
      "application/vnd.plotly.v1+json": {
       "config": {
        "plotlyServerURL": "https://plot.ly"
       },
       "data": [
        {
         "orientation": "h",
         "type": "bar",
         "x": {
          "bdata": "1tazaGTyzEDV+k6i30nQQHx94BkFXdBAx7bVnhGL0UDVEfILHvPSQBrqSZ/tQ9RAD73+FdtX1ECwOUOIYVfVQEZkij5f4tZAX+y4kziF2EA=",
          "dtype": "f8"
         },
         "y": [
          "Functional_Maj2",
          "Condition1_RRAe",
          "ExterQual_Ex",
          "BsmtExposure_Gd",
          "LandSlope_Sev",
          "MSZoning_FV",
          "SaleType_Con",
          "MSZoning_C (all)",
          "HouseStyle_2.5Fin",
          "Neighborhood_Tier_Premium"
         ]
        }
       ],
       "layout": {
        "template": {
         "data": {
          "bar": [
           {
            "error_x": {
             "color": "#2a3f5f"
            },
            "error_y": {
             "color": "#2a3f5f"
            },
            "marker": {
             "line": {
              "color": "#E5ECF6",
              "width": 0.5
             },
             "pattern": {
              "fillmode": "overlay",
              "size": 10,
              "solidity": 0.2
             }
            },
            "type": "bar"
           }
          ],
          "barpolar": [
           {
            "marker": {
             "line": {
              "color": "#E5ECF6",
              "width": 0.5
             },
             "pattern": {
              "fillmode": "overlay",
              "size": 10,
              "solidity": 0.2
             }
            },
            "type": "barpolar"
           }
          ],
          "carpet": [
           {
            "aaxis": {
             "endlinecolor": "#2a3f5f",
             "gridcolor": "white",
             "linecolor": "white",
             "minorgridcolor": "white",
             "startlinecolor": "#2a3f5f"
            },
            "baxis": {
             "endlinecolor": "#2a3f5f",
             "gridcolor": "white",
             "linecolor": "white",
             "minorgridcolor": "white",
             "startlinecolor": "#2a3f5f"
            },
            "type": "carpet"
           }
          ],
          "choropleth": [
           {
            "colorbar": {
             "outlinewidth": 0,
             "ticks": ""
            },
            "type": "choropleth"
           }
          ],
          "contour": [
           {
            "colorbar": {
             "outlinewidth": 0,
             "ticks": ""
            },
            "colorscale": [
             [
              0,
              "#0d0887"
             ],
             [
              0.1111111111111111,
              "#46039f"
             ],
             [
              0.2222222222222222,
              "#7201a8"
             ],
             [
              0.3333333333333333,
              "#9c179e"
             ],
             [
              0.4444444444444444,
              "#bd3786"
             ],
             [
              0.5555555555555556,
              "#d8576b"
             ],
             [
              0.6666666666666666,
              "#ed7953"
             ],
             [
              0.7777777777777778,
              "#fb9f3a"
             ],
             [
              0.8888888888888888,
              "#fdca26"
             ],
             [
              1,
              "#f0f921"
             ]
            ],
            "type": "contour"
           }
          ],
          "contourcarpet": [
           {
            "colorbar": {
             "outlinewidth": 0,
             "ticks": ""
            },
            "type": "contourcarpet"
           }
          ],
          "heatmap": [
           {
            "colorbar": {
             "outlinewidth": 0,
             "ticks": ""
            },
            "colorscale": [
             [
              0,
              "#0d0887"
             ],
             [
              0.1111111111111111,
              "#46039f"
             ],
             [
              0.2222222222222222,
              "#7201a8"
             ],
             [
              0.3333333333333333,
              "#9c179e"
             ],
             [
              0.4444444444444444,
              "#bd3786"
             ],
             [
              0.5555555555555556,
              "#d8576b"
             ],
             [
              0.6666666666666666,
              "#ed7953"
             ],
             [
              0.7777777777777778,
              "#fb9f3a"
             ],
             [
              0.8888888888888888,
              "#fdca26"
             ],
             [
              1,
              "#f0f921"
             ]
            ],
            "type": "heatmap"
           }
          ],
          "histogram": [
           {
            "marker": {
             "pattern": {
              "fillmode": "overlay",
              "size": 10,
              "solidity": 0.2
             }
            },
            "type": "histogram"
           }
          ],
          "histogram2d": [
           {
            "colorbar": {
             "outlinewidth": 0,
             "ticks": ""
            },
            "colorscale": [
             [
              0,
              "#0d0887"
             ],
             [
              0.1111111111111111,
              "#46039f"
             ],
             [
              0.2222222222222222,
              "#7201a8"
             ],
             [
              0.3333333333333333,
              "#9c179e"
             ],
             [
              0.4444444444444444,
              "#bd3786"
             ],
             [
              0.5555555555555556,
              "#d8576b"
             ],
             [
              0.6666666666666666,
              "#ed7953"
             ],
             [
              0.7777777777777778,
              "#fb9f3a"
             ],
             [
              0.8888888888888888,
              "#fdca26"
             ],
             [
              1,
              "#f0f921"
             ]
            ],
            "type": "histogram2d"
           }
          ],
          "histogram2dcontour": [
           {
            "colorbar": {
             "outlinewidth": 0,
             "ticks": ""
            },
            "colorscale": [
             [
              0,
              "#0d0887"
             ],
             [
              0.1111111111111111,
              "#46039f"
             ],
             [
              0.2222222222222222,
              "#7201a8"
             ],
             [
              0.3333333333333333,
              "#9c179e"
             ],
             [
              0.4444444444444444,
              "#bd3786"
             ],
             [
              0.5555555555555556,
              "#d8576b"
             ],
             [
              0.6666666666666666,
              "#ed7953"
             ],
             [
              0.7777777777777778,
              "#fb9f3a"
             ],
             [
              0.8888888888888888,
              "#fdca26"
             ],
             [
              1,
              "#f0f921"
             ]
            ],
            "type": "histogram2dcontour"
           }
          ],
          "mesh3d": [
           {
            "colorbar": {
             "outlinewidth": 0,
             "ticks": ""
            },
            "type": "mesh3d"
           }
          ],
          "parcoords": [
           {
            "line": {
             "colorbar": {
              "outlinewidth": 0,
              "ticks": ""
             }
            },
            "type": "parcoords"
           }
          ],
          "pie": [
           {
            "automargin": true,
            "type": "pie"
           }
          ],
          "scatter": [
           {
            "fillpattern": {
             "fillmode": "overlay",
             "size": 10,
             "solidity": 0.2
            },
            "type": "scatter"
           }
          ],
          "scatter3d": [
           {
            "line": {
             "colorbar": {
              "outlinewidth": 0,
              "ticks": ""
             }
            },
            "marker": {
             "colorbar": {
              "outlinewidth": 0,
              "ticks": ""
             }
            },
            "type": "scatter3d"
           }
          ],
          "scattercarpet": [
           {
            "marker": {
             "colorbar": {
              "outlinewidth": 0,
              "ticks": ""
             }
            },
            "type": "scattercarpet"
           }
          ],
          "scattergeo": [
           {
            "marker": {
             "colorbar": {
              "outlinewidth": 0,
              "ticks": ""
             }
            },
            "type": "scattergeo"
           }
          ],
          "scattergl": [
           {
            "marker": {
             "colorbar": {
              "outlinewidth": 0,
              "ticks": ""
             }
            },
            "type": "scattergl"
           }
          ],
          "scattermap": [
           {
            "marker": {
             "colorbar": {
              "outlinewidth": 0,
              "ticks": ""
             }
            },
            "type": "scattermap"
           }
          ],
          "scattermapbox": [
           {
            "marker": {
             "colorbar": {
              "outlinewidth": 0,
              "ticks": ""
             }
            },
            "type": "scattermapbox"
           }
          ],
          "scatterpolar": [
           {
            "marker": {
             "colorbar": {
              "outlinewidth": 0,
              "ticks": ""
             }
            },
            "type": "scatterpolar"
           }
          ],
          "scatterpolargl": [
           {
            "marker": {
             "colorbar": {
              "outlinewidth": 0,
              "ticks": ""
             }
            },
            "type": "scatterpolargl"
           }
          ],
          "scatterternary": [
           {
            "marker": {
             "colorbar": {
              "outlinewidth": 0,
              "ticks": ""
             }
            },
            "type": "scatterternary"
           }
          ],
          "surface": [
           {
            "colorbar": {
             "outlinewidth": 0,
             "ticks": ""
            },
            "colorscale": [
             [
              0,
              "#0d0887"
             ],
             [
              0.1111111111111111,
              "#46039f"
             ],
             [
              0.2222222222222222,
              "#7201a8"
             ],
             [
              0.3333333333333333,
              "#9c179e"
             ],
             [
              0.4444444444444444,
              "#bd3786"
             ],
             [
              0.5555555555555556,
              "#d8576b"
             ],
             [
              0.6666666666666666,
              "#ed7953"
             ],
             [
              0.7777777777777778,
              "#fb9f3a"
             ],
             [
              0.8888888888888888,
              "#fdca26"
             ],
             [
              1,
              "#f0f921"
             ]
            ],
            "type": "surface"
           }
          ],
          "table": [
           {
            "cells": {
             "fill": {
              "color": "#EBF0F8"
             },
             "line": {
              "color": "white"
             }
            },
            "header": {
             "fill": {
              "color": "#C8D4E3"
             },
             "line": {
              "color": "white"
             }
            },
            "type": "table"
           }
          ]
         },
         "layout": {
          "annotationdefaults": {
           "arrowcolor": "#2a3f5f",
           "arrowhead": 0,
           "arrowwidth": 1
          },
          "autotypenumbers": "strict",
          "coloraxis": {
           "colorbar": {
            "outlinewidth": 0,
            "ticks": ""
           }
          },
          "colorscale": {
           "diverging": [
            [
             0,
             "#8e0152"
            ],
            [
             0.1,
             "#c51b7d"
            ],
            [
             0.2,
             "#de77ae"
            ],
            [
             0.3,
             "#f1b6da"
            ],
            [
             0.4,
             "#fde0ef"
            ],
            [
             0.5,
             "#f7f7f7"
            ],
            [
             0.6,
             "#e6f5d0"
            ],
            [
             0.7,
             "#b8e186"
            ],
            [
             0.8,
             "#7fbc41"
            ],
            [
             0.9,
             "#4d9221"
            ],
            [
             1,
             "#276419"
            ]
           ],
           "sequential": [
            [
             0,
             "#0d0887"
            ],
            [
             0.1111111111111111,
             "#46039f"
            ],
            [
             0.2222222222222222,
             "#7201a8"
            ],
            [
             0.3333333333333333,
             "#9c179e"
            ],
            [
             0.4444444444444444,
             "#bd3786"
            ],
            [
             0.5555555555555556,
             "#d8576b"
            ],
            [
             0.6666666666666666,
             "#ed7953"
            ],
            [
             0.7777777777777778,
             "#fb9f3a"
            ],
            [
             0.8888888888888888,
             "#fdca26"
            ],
            [
             1,
             "#f0f921"
            ]
           ],
           "sequentialminus": [
            [
             0,
             "#0d0887"
            ],
            [
             0.1111111111111111,
             "#46039f"
            ],
            [
             0.2222222222222222,
             "#7201a8"
            ],
            [
             0.3333333333333333,
             "#9c179e"
            ],
            [
             0.4444444444444444,
             "#bd3786"
            ],
            [
             0.5555555555555556,
             "#d8576b"
            ],
            [
             0.6666666666666666,
             "#ed7953"
            ],
            [
             0.7777777777777778,
             "#fb9f3a"
            ],
            [
             0.8888888888888888,
             "#fdca26"
            ],
            [
             1,
             "#f0f921"
            ]
           ]
          },
          "colorway": [
           "#636efa",
           "#EF553B",
           "#00cc96",
           "#ab63fa",
           "#FFA15A",
           "#19d3f3",
           "#FF6692",
           "#B6E880",
           "#FF97FF",
           "#FECB52"
          ],
          "font": {
           "color": "#2a3f5f"
          },
          "geo": {
           "bgcolor": "white",
           "lakecolor": "white",
           "landcolor": "#E5ECF6",
           "showlakes": true,
           "showland": true,
           "subunitcolor": "white"
          },
          "hoverlabel": {
           "align": "left"
          },
          "hovermode": "closest",
          "mapbox": {
           "style": "light"
          },
          "paper_bgcolor": "white",
          "plot_bgcolor": "#E5ECF6",
          "polar": {
           "angularaxis": {
            "gridcolor": "white",
            "linecolor": "white",
            "ticks": ""
           },
           "bgcolor": "#E5ECF6",
           "radialaxis": {
            "gridcolor": "white",
            "linecolor": "white",
            "ticks": ""
           }
          },
          "scene": {
           "xaxis": {
            "backgroundcolor": "#E5ECF6",
            "gridcolor": "white",
            "gridwidth": 2,
            "linecolor": "white",
            "showbackground": true,
            "ticks": "",
            "zerolinecolor": "white"
           },
           "yaxis": {
            "backgroundcolor": "#E5ECF6",
            "gridcolor": "white",
            "gridwidth": 2,
            "linecolor": "white",
            "showbackground": true,
            "ticks": "",
            "zerolinecolor": "white"
           },
           "zaxis": {
            "backgroundcolor": "#E5ECF6",
            "gridcolor": "white",
            "gridwidth": 2,
            "linecolor": "white",
            "showbackground": true,
            "ticks": "",
            "zerolinecolor": "white"
           }
          },
          "shapedefaults": {
           "line": {
            "color": "#2a3f5f"
           }
          },
          "ternary": {
           "aaxis": {
            "gridcolor": "white",
            "linecolor": "white",
            "ticks": ""
           },
           "baxis": {
            "gridcolor": "white",
            "linecolor": "white",
            "ticks": ""
           },
           "bgcolor": "#E5ECF6",
           "caxis": {
            "gridcolor": "white",
            "linecolor": "white",
            "ticks": ""
           }
          },
          "title": {
           "x": 0.05
          },
          "xaxis": {
           "automargin": true,
           "gridcolor": "white",
           "linecolor": "white",
           "ticks": "",
           "title": {
            "standoff": 15
           },
           "zerolinecolor": "white",
           "zerolinewidth": 2
          },
          "yaxis": {
           "automargin": true,
           "gridcolor": "white",
           "linecolor": "white",
           "ticks": "",
           "title": {
            "standoff": 15
           },
           "zerolinecolor": "white",
           "zerolinewidth": 2
          }
         }
        },
        "title": {
         "text": "Feature Importances for Apartment Price"
        },
        "xaxis": {
         "title": {
          "text": "Importance [USD]"
         }
        },
        "yaxis": {
         "autorange": "reversed",
         "title": {
          "text": "Feature"
         }
        }
       }
      }
     },
     "metadata": {},
     "output_type": "display_data"
    }
   ],
   "source": [
    "import plotly.graph_objects as go\n",
    "\n",
    "top_features = feat_imp.abs().sort_values().tail(10)\n",
    "\n",
    "fig = go.Figure(go.Bar(\n",
    "    x=top_features.values,\n",
    "    y=top_features.index,\n",
    "    orientation='h'\n",
    "))\n",
    "\n",
    "fig.update_layout(\n",
    "    title=\"Feature Importances for Apartment Price\",\n",
    "    xaxis_title=\"Importance [USD]\",\n",
    "    yaxis_title=\"Feature\",\n",
    "    yaxis=dict(autorange=\"reversed\")  # highest at top\n",
    ")\n",
    "\n",
    "fig.show()\n"
   ]
  },
  {
   "cell_type": "code",
   "execution_count": null,
   "id": "b898d180",
   "metadata": {},
   "outputs": [
    {
     "data": {
      "application/vnd.plotly.v1+json": {
       "config": {
        "plotlyServerURL": "https://plot.ly"
       },
       "data": [
        {
         "base": 0,
         "marker": {
          "color": [
           "green",
           "red",
           "red",
           "green",
           "green",
           "red",
           "green",
           "green",
           "red",
           "red"
          ]
         },
         "orientation": "h",
         "type": "bar",
         "x": {
          "bdata": "X+y4kziF2EBGZIo+X+LWwLA5Q4hhV9XAD73+FdtX1EAa6kmf7UPUQNUR8gse89LAx7bVnhGL0UB8feAZBV3QQNX6TqLfSdDA1tazaGTyzMA=",
          "dtype": "f8"
         },
         "y": [
          "Neighborhood_Tier_Premium",
          "HouseStyle_2.5Fin",
          "MSZoning_C (all)",
          "SaleType_Con",
          "MSZoning_FV",
          "LandSlope_Sev",
          "BsmtExposure_Gd",
          "ExterQual_Ex",
          "Condition1_RRAe",
          "Functional_Maj2"
         ]
        }
       ],
       "layout": {
        "bargap": 0.3,
        "template": {
         "data": {
          "bar": [
           {
            "error_x": {
             "color": "#2a3f5f"
            },
            "error_y": {
             "color": "#2a3f5f"
            },
            "marker": {
             "line": {
              "color": "#E5ECF6",
              "width": 0.5
             },
             "pattern": {
              "fillmode": "overlay",
              "size": 10,
              "solidity": 0.2
             }
            },
            "type": "bar"
           }
          ],
          "barpolar": [
           {
            "marker": {
             "line": {
              "color": "#E5ECF6",
              "width": 0.5
             },
             "pattern": {
              "fillmode": "overlay",
              "size": 10,
              "solidity": 0.2
             }
            },
            "type": "barpolar"
           }
          ],
          "carpet": [
           {
            "aaxis": {
             "endlinecolor": "#2a3f5f",
             "gridcolor": "white",
             "linecolor": "white",
             "minorgridcolor": "white",
             "startlinecolor": "#2a3f5f"
            },
            "baxis": {
             "endlinecolor": "#2a3f5f",
             "gridcolor": "white",
             "linecolor": "white",
             "minorgridcolor": "white",
             "startlinecolor": "#2a3f5f"
            },
            "type": "carpet"
           }
          ],
          "choropleth": [
           {
            "colorbar": {
             "outlinewidth": 0,
             "ticks": ""
            },
            "type": "choropleth"
           }
          ],
          "contour": [
           {
            "colorbar": {
             "outlinewidth": 0,
             "ticks": ""
            },
            "colorscale": [
             [
              0,
              "#0d0887"
             ],
             [
              0.1111111111111111,
              "#46039f"
             ],
             [
              0.2222222222222222,
              "#7201a8"
             ],
             [
              0.3333333333333333,
              "#9c179e"
             ],
             [
              0.4444444444444444,
              "#bd3786"
             ],
             [
              0.5555555555555556,
              "#d8576b"
             ],
             [
              0.6666666666666666,
              "#ed7953"
             ],
             [
              0.7777777777777778,
              "#fb9f3a"
             ],
             [
              0.8888888888888888,
              "#fdca26"
             ],
             [
              1,
              "#f0f921"
             ]
            ],
            "type": "contour"
           }
          ],
          "contourcarpet": [
           {
            "colorbar": {
             "outlinewidth": 0,
             "ticks": ""
            },
            "type": "contourcarpet"
           }
          ],
          "heatmap": [
           {
            "colorbar": {
             "outlinewidth": 0,
             "ticks": ""
            },
            "colorscale": [
             [
              0,
              "#0d0887"
             ],
             [
              0.1111111111111111,
              "#46039f"
             ],
             [
              0.2222222222222222,
              "#7201a8"
             ],
             [
              0.3333333333333333,
              "#9c179e"
             ],
             [
              0.4444444444444444,
              "#bd3786"
             ],
             [
              0.5555555555555556,
              "#d8576b"
             ],
             [
              0.6666666666666666,
              "#ed7953"
             ],
             [
              0.7777777777777778,
              "#fb9f3a"
             ],
             [
              0.8888888888888888,
              "#fdca26"
             ],
             [
              1,
              "#f0f921"
             ]
            ],
            "type": "heatmap"
           }
          ],
          "histogram": [
           {
            "marker": {
             "pattern": {
              "fillmode": "overlay",
              "size": 10,
              "solidity": 0.2
             }
            },
            "type": "histogram"
           }
          ],
          "histogram2d": [
           {
            "colorbar": {
             "outlinewidth": 0,
             "ticks": ""
            },
            "colorscale": [
             [
              0,
              "#0d0887"
             ],
             [
              0.1111111111111111,
              "#46039f"
             ],
             [
              0.2222222222222222,
              "#7201a8"
             ],
             [
              0.3333333333333333,
              "#9c179e"
             ],
             [
              0.4444444444444444,
              "#bd3786"
             ],
             [
              0.5555555555555556,
              "#d8576b"
             ],
             [
              0.6666666666666666,
              "#ed7953"
             ],
             [
              0.7777777777777778,
              "#fb9f3a"
             ],
             [
              0.8888888888888888,
              "#fdca26"
             ],
             [
              1,
              "#f0f921"
             ]
            ],
            "type": "histogram2d"
           }
          ],
          "histogram2dcontour": [
           {
            "colorbar": {
             "outlinewidth": 0,
             "ticks": ""
            },
            "colorscale": [
             [
              0,
              "#0d0887"
             ],
             [
              0.1111111111111111,
              "#46039f"
             ],
             [
              0.2222222222222222,
              "#7201a8"
             ],
             [
              0.3333333333333333,
              "#9c179e"
             ],
             [
              0.4444444444444444,
              "#bd3786"
             ],
             [
              0.5555555555555556,
              "#d8576b"
             ],
             [
              0.6666666666666666,
              "#ed7953"
             ],
             [
              0.7777777777777778,
              "#fb9f3a"
             ],
             [
              0.8888888888888888,
              "#fdca26"
             ],
             [
              1,
              "#f0f921"
             ]
            ],
            "type": "histogram2dcontour"
           }
          ],
          "mesh3d": [
           {
            "colorbar": {
             "outlinewidth": 0,
             "ticks": ""
            },
            "type": "mesh3d"
           }
          ],
          "parcoords": [
           {
            "line": {
             "colorbar": {
              "outlinewidth": 0,
              "ticks": ""
             }
            },
            "type": "parcoords"
           }
          ],
          "pie": [
           {
            "automargin": true,
            "type": "pie"
           }
          ],
          "scatter": [
           {
            "fillpattern": {
             "fillmode": "overlay",
             "size": 10,
             "solidity": 0.2
            },
            "type": "scatter"
           }
          ],
          "scatter3d": [
           {
            "line": {
             "colorbar": {
              "outlinewidth": 0,
              "ticks": ""
             }
            },
            "marker": {
             "colorbar": {
              "outlinewidth": 0,
              "ticks": ""
             }
            },
            "type": "scatter3d"
           }
          ],
          "scattercarpet": [
           {
            "marker": {
             "colorbar": {
              "outlinewidth": 0,
              "ticks": ""
             }
            },
            "type": "scattercarpet"
           }
          ],
          "scattergeo": [
           {
            "marker": {
             "colorbar": {
              "outlinewidth": 0,
              "ticks": ""
             }
            },
            "type": "scattergeo"
           }
          ],
          "scattergl": [
           {
            "marker": {
             "colorbar": {
              "outlinewidth": 0,
              "ticks": ""
             }
            },
            "type": "scattergl"
           }
          ],
          "scattermap": [
           {
            "marker": {
             "colorbar": {
              "outlinewidth": 0,
              "ticks": ""
             }
            },
            "type": "scattermap"
           }
          ],
          "scattermapbox": [
           {
            "marker": {
             "colorbar": {
              "outlinewidth": 0,
              "ticks": ""
             }
            },
            "type": "scattermapbox"
           }
          ],
          "scatterpolar": [
           {
            "marker": {
             "colorbar": {
              "outlinewidth": 0,
              "ticks": ""
             }
            },
            "type": "scatterpolar"
           }
          ],
          "scatterpolargl": [
           {
            "marker": {
             "colorbar": {
              "outlinewidth": 0,
              "ticks": ""
             }
            },
            "type": "scatterpolargl"
           }
          ],
          "scatterternary": [
           {
            "marker": {
             "colorbar": {
              "outlinewidth": 0,
              "ticks": ""
             }
            },
            "type": "scatterternary"
           }
          ],
          "surface": [
           {
            "colorbar": {
             "outlinewidth": 0,
             "ticks": ""
            },
            "colorscale": [
             [
              0,
              "#0d0887"
             ],
             [
              0.1111111111111111,
              "#46039f"
             ],
             [
              0.2222222222222222,
              "#7201a8"
             ],
             [
              0.3333333333333333,
              "#9c179e"
             ],
             [
              0.4444444444444444,
              "#bd3786"
             ],
             [
              0.5555555555555556,
              "#d8576b"
             ],
             [
              0.6666666666666666,
              "#ed7953"
             ],
             [
              0.7777777777777778,
              "#fb9f3a"
             ],
             [
              0.8888888888888888,
              "#fdca26"
             ],
             [
              1,
              "#f0f921"
             ]
            ],
            "type": "surface"
           }
          ],
          "table": [
           {
            "cells": {
             "fill": {
              "color": "#EBF0F8"
             },
             "line": {
              "color": "white"
             }
            },
            "header": {
             "fill": {
              "color": "#C8D4E3"
             },
             "line": {
              "color": "white"
             }
            },
            "type": "table"
           }
          ]
         },
         "layout": {
          "annotationdefaults": {
           "arrowcolor": "#2a3f5f",
           "arrowhead": 0,
           "arrowwidth": 1
          },
          "autotypenumbers": "strict",
          "coloraxis": {
           "colorbar": {
            "outlinewidth": 0,
            "ticks": ""
           }
          },
          "colorscale": {
           "diverging": [
            [
             0,
             "#8e0152"
            ],
            [
             0.1,
             "#c51b7d"
            ],
            [
             0.2,
             "#de77ae"
            ],
            [
             0.3,
             "#f1b6da"
            ],
            [
             0.4,
             "#fde0ef"
            ],
            [
             0.5,
             "#f7f7f7"
            ],
            [
             0.6,
             "#e6f5d0"
            ],
            [
             0.7,
             "#b8e186"
            ],
            [
             0.8,
             "#7fbc41"
            ],
            [
             0.9,
             "#4d9221"
            ],
            [
             1,
             "#276419"
            ]
           ],
           "sequential": [
            [
             0,
             "#0d0887"
            ],
            [
             0.1111111111111111,
             "#46039f"
            ],
            [
             0.2222222222222222,
             "#7201a8"
            ],
            [
             0.3333333333333333,
             "#9c179e"
            ],
            [
             0.4444444444444444,
             "#bd3786"
            ],
            [
             0.5555555555555556,
             "#d8576b"
            ],
            [
             0.6666666666666666,
             "#ed7953"
            ],
            [
             0.7777777777777778,
             "#fb9f3a"
            ],
            [
             0.8888888888888888,
             "#fdca26"
            ],
            [
             1,
             "#f0f921"
            ]
           ],
           "sequentialminus": [
            [
             0,
             "#0d0887"
            ],
            [
             0.1111111111111111,
             "#46039f"
            ],
            [
             0.2222222222222222,
             "#7201a8"
            ],
            [
             0.3333333333333333,
             "#9c179e"
            ],
            [
             0.4444444444444444,
             "#bd3786"
            ],
            [
             0.5555555555555556,
             "#d8576b"
            ],
            [
             0.6666666666666666,
             "#ed7953"
            ],
            [
             0.7777777777777778,
             "#fb9f3a"
            ],
            [
             0.8888888888888888,
             "#fdca26"
            ],
            [
             1,
             "#f0f921"
            ]
           ]
          },
          "colorway": [
           "#636efa",
           "#EF553B",
           "#00cc96",
           "#ab63fa",
           "#FFA15A",
           "#19d3f3",
           "#FF6692",
           "#B6E880",
           "#FF97FF",
           "#FECB52"
          ],
          "font": {
           "color": "#2a3f5f"
          },
          "geo": {
           "bgcolor": "white",
           "lakecolor": "white",
           "landcolor": "#E5ECF6",
           "showlakes": true,
           "showland": true,
           "subunitcolor": "white"
          },
          "hoverlabel": {
           "align": "left"
          },
          "hovermode": "closest",
          "mapbox": {
           "style": "light"
          },
          "paper_bgcolor": "white",
          "plot_bgcolor": "#E5ECF6",
          "polar": {
           "angularaxis": {
            "gridcolor": "white",
            "linecolor": "white",
            "ticks": ""
           },
           "bgcolor": "#E5ECF6",
           "radialaxis": {
            "gridcolor": "white",
            "linecolor": "white",
            "ticks": ""
           }
          },
          "scene": {
           "xaxis": {
            "backgroundcolor": "#E5ECF6",
            "gridcolor": "white",
            "gridwidth": 2,
            "linecolor": "white",
            "showbackground": true,
            "ticks": "",
            "zerolinecolor": "white"
           },
           "yaxis": {
            "backgroundcolor": "#E5ECF6",
            "gridcolor": "white",
            "gridwidth": 2,
            "linecolor": "white",
            "showbackground": true,
            "ticks": "",
            "zerolinecolor": "white"
           },
           "zaxis": {
            "backgroundcolor": "#E5ECF6",
            "gridcolor": "white",
            "gridwidth": 2,
            "linecolor": "white",
            "showbackground": true,
            "ticks": "",
            "zerolinecolor": "white"
           }
          },
          "shapedefaults": {
           "line": {
            "color": "#2a3f5f"
           }
          },
          "ternary": {
           "aaxis": {
            "gridcolor": "white",
            "linecolor": "white",
            "ticks": ""
           },
           "baxis": {
            "gridcolor": "white",
            "linecolor": "white",
            "ticks": ""
           },
           "bgcolor": "#E5ECF6",
           "caxis": {
            "gridcolor": "white",
            "linecolor": "white",
            "ticks": ""
           }
          },
          "title": {
           "x": 0.05
          },
          "xaxis": {
           "automargin": true,
           "gridcolor": "white",
           "linecolor": "white",
           "ticks": "",
           "title": {
            "standoff": 15
           },
           "zerolinecolor": "white",
           "zerolinewidth": 2
          },
          "yaxis": {
           "automargin": true,
           "gridcolor": "white",
           "linecolor": "white",
           "ticks": "",
           "title": {
            "standoff": 15
           },
           "zerolinecolor": "white",
           "zerolinewidth": 2
          }
         }
        },
        "title": {
         "text": "Top 10 Feature Importances (Negative Left, Positive Right)"
        },
        "xaxis": {
         "title": {
          "text": "Coefficient"
         },
         "zeroline": true,
         "zerolinecolor": "black",
         "zerolinewidth": 2
        },
        "yaxis": {
         "autorange": "reversed",
         "title": {
          "text": "Feature"
         }
        }
       }
      }
     },
     "metadata": {},
     "output_type": "display_data"
    }
   ],
   "source": [
    "import plotly.graph_objects as go\n",
    "\n",
    "\n",
    "# Select top 10 features by absolute importance\n",
    "top_10 = feat_imp.reindex(feat_imp.abs().sort_values(ascending=False).index).head(10)\n",
    "\n",
    "colors = ['green' if val > 0 else 'red' for val in top_10.values]\n",
    "\n",
    "fig = go.Figure()\n",
    "\n",
    "fig.add_trace(go.Bar(\n",
    "    x=top_10.values,\n",
    "    y=top_10.index,\n",
    "    orientation='h',\n",
    "    marker_color=colors,\n",
    "    base=0  # baseline zero, so negatives go left, positives right\n",
    "))\n",
    "\n",
    "fig.update_layout(\n",
    "    title=\"Top 10 Feature Importances (Negative Left, Positive Right)\",\n",
    "    xaxis_title=\"Coefficient\",\n",
    "    yaxis_title=\"Feature\",\n",
    "    yaxis=dict(autorange='reversed'),\n",
    "    bargap=0.3,\n",
    "    xaxis=dict(\n",
    "        zeroline=True,\n",
    "        zerolinewidth=2,\n",
    "        zerolinecolor='black',\n",
    "    ),\n",
    ")\n",
    "\n",
    "fig.show()\n"
   ]
  },
  {
   "cell_type": "markdown",
   "id": "357f7251",
   "metadata": {},
   "source": [
    "The model found that certain features have a strong impact on price — either increasing or decreasing it. For example, homes in mid- or low-tier neighborhoods tend to be priced lower, while better exterior materials are associated with higher prices."
   ]
  },
  {
   "cell_type": "code",
   "execution_count": 34,
   "id": "8e63b142",
   "metadata": {},
   "outputs": [
    {
     "data": {
      "text/plain": [
       "Neighborhood_Tier_Mid       -9156.449890\n",
       "Neighborhood_Tier_Low      -12382.824025\n",
       "Exterior1st_Tier_Premium     2686.973499\n",
       "Exterior1st_Tier_Mid        -2530.426748\n",
       "Exterior1st_Tier_High         885.953007\n",
       "Exterior1st_Tier_Low        -1042.499757\n",
       "Exterior2nd_Tier_Premium    -2002.596960\n",
       "Exterior2nd_Tier_Mid         3607.230882\n",
       "Exterior2nd_Tier_High       -2096.396876\n",
       "Exterior2nd_Tier_Low          491.762954\n",
       "dtype: float64"
      ]
     },
     "execution_count": 34,
     "metadata": {},
     "output_type": "execute_result"
    }
   ],
   "source": [
    "feat_imp.tail(10)"
   ]
  },
  {
   "cell_type": "code",
   "execution_count": null,
   "id": "a695ccbe",
   "metadata": {},
   "outputs": [],
   "source": []
  }
 ],
 "metadata": {
  "kernelspec": {
   "display_name": "myenv1",
   "language": "python",
   "name": "python3"
  },
  "language_info": {
   "codemirror_mode": {
    "name": "ipython",
    "version": 3
   },
   "file_extension": ".py",
   "mimetype": "text/x-python",
   "name": "python",
   "nbconvert_exporter": "python",
   "pygments_lexer": "ipython3",
   "version": "3.12.3"
  }
 },
 "nbformat": 4,
 "nbformat_minor": 5
}
